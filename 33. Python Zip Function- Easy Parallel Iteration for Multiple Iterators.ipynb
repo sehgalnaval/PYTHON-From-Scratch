{
 "cells": [
  {
   "cell_type": "code",
   "execution_count": 63,
   "id": "9e053481-c07d-4b45-b631-d804ad160fcc",
   "metadata": {},
   "outputs": [],
   "source": [
    "lst1=[\"Krish\",\"Sam\",\"John\"]\n",
    "lst2=[\"a\",'b','c']"
   ]
  },
  {
   "cell_type": "code",
   "execution_count": 64,
   "id": "c9ee7289-d93d-4767-a066-4ed3fff63a8c",
   "metadata": {},
   "outputs": [
    {
     "name": "stdout",
     "output_type": "stream",
     "text": [
      "Krish\n",
      "Sam\n",
      "John\n"
     ]
    }
   ],
   "source": [
    "for i in lst1:\n",
    "    print(i)"
   ]
  },
  {
   "cell_type": "code",
   "execution_count": 53,
   "id": "54b61ab1-ce9e-4b7c-a1a9-707292968310",
   "metadata": {},
   "outputs": [],
   "source": [
    "output=zip(lst1,lst2)"
   ]
  },
  {
   "cell_type": "code",
   "execution_count": 54,
   "id": "533c0d85-6c66-4532-8418-1229fe46152b",
   "metadata": {},
   "outputs": [
    {
     "data": {
      "text/plain": [
       "<zip at 0x244de046e00>"
      ]
     },
     "execution_count": 54,
     "metadata": {},
     "output_type": "execute_result"
    }
   ],
   "source": [
    "output"
   ]
  },
  {
   "cell_type": "code",
   "execution_count": 21,
   "id": "2b7efafc-062e-4b88-94f0-9d02e656ba12",
   "metadata": {},
   "outputs": [
    {
     "data": {
      "text/plain": [
       "[('Krish', 'a'), ('Sam', 'b'), ('John', 'c')]"
      ]
     },
     "execution_count": 21,
     "metadata": {},
     "output_type": "execute_result"
    }
   ],
   "source": [
    "# tuples output\n",
    "list(output)"
   ]
  },
  {
   "cell_type": "code",
   "execution_count": 45,
   "id": "481edb07-5b37-4be9-b7a5-cc3fc045586a",
   "metadata": {},
   "outputs": [
    {
     "ename": "StopIteration",
     "evalue": "",
     "output_type": "error",
     "traceback": [
      "\u001b[1;31m---------------------------------------------------------------------------\u001b[0m",
      "\u001b[1;31mStopIteration\u001b[0m                             Traceback (most recent call last)",
      "Cell \u001b[1;32mIn[45], line 3\u001b[0m\n\u001b[0;32m      1\u001b[0m \u001b[38;5;66;03m# zip object is an iterator\u001b[39;00m\n\u001b[0;32m      2\u001b[0m \u001b[38;5;66;03m# after executing 3 times will gives error.\u001b[39;00m\n\u001b[1;32m----> 3\u001b[0m \u001b[38;5;28mnext\u001b[39m(output)\n",
      "\u001b[1;31mStopIteration\u001b[0m: "
     ]
    }
   ],
   "source": [
    "# zip object is an iterator\n",
    "# after executing 3 times will gives error.\n",
    "next(output)"
   ]
  },
  {
   "cell_type": "code",
   "execution_count": 77,
   "id": "30360cca-421a-4d1c-9fc7-bfa47a3c2e40",
   "metadata": {},
   "outputs": [],
   "source": [
    "lst1=[\"Krish\",\"Sam\",\"John\",4]\n",
    "lst2=[\"a\",'b','c']\n",
    "lst3=[1,2,3]"
   ]
  },
  {
   "cell_type": "code",
   "execution_count": 79,
   "id": "3dd29b59-37df-4c19-8d32-f0ececc696bf",
   "metadata": {},
   "outputs": [],
   "source": [
    "output=zip(lst1,lst2,lst3)"
   ]
  },
  {
   "cell_type": "code",
   "execution_count": 81,
   "id": "87d5937b-0abf-46f9-a805-5c03d50c0f24",
   "metadata": {},
   "outputs": [
    {
     "name": "stdout",
     "output_type": "stream",
     "text": [
      "Krish a 1\n",
      "Sam b 2\n",
      "John c 3\n"
     ]
    }
   ],
   "source": [
    "for i,j,k in output:\n",
    "    print(i,j,k)"
   ]
  },
  {
   "cell_type": "code",
   "execution_count": 83,
   "id": "9535fb11-f95c-4a7a-89a2-0e8fa951feb5",
   "metadata": {},
   "outputs": [
    {
     "data": {
      "text/plain": [
       "[]"
      ]
     },
     "execution_count": 83,
     "metadata": {},
     "output_type": "execute_result"
    }
   ],
   "source": [
    "list(zip())"
   ]
  },
  {
   "cell_type": "code",
   "execution_count": 85,
   "id": "bf92a5c4-9bca-48be-aa7b-04ab163d96ec",
   "metadata": {},
   "outputs": [],
   "source": [
    "dict1={'name':'Krish','lst_name':'Naik','age':30}\n",
    "dict2={'name':'Amit','lst_name':'Verma','age':29}"
   ]
  },
  {
   "cell_type": "code",
   "execution_count": 87,
   "id": "8a55ad5c-c459-4cb7-b56c-7674985f4913",
   "metadata": {},
   "outputs": [],
   "source": [
    "dictionary=zip(dict1.items(),dict2.items())"
   ]
  },
  {
   "cell_type": "code",
   "execution_count": 89,
   "id": "ac49dbb3-21c9-4453-9200-6f5310dd22c3",
   "metadata": {},
   "outputs": [
    {
     "data": {
      "text/plain": [
       "{'name': 'Krish', 'lst_name': 'Naik', 'age': 30}"
      ]
     },
     "execution_count": 89,
     "metadata": {},
     "output_type": "execute_result"
    }
   ],
   "source": [
    "dict1"
   ]
  },
  {
   "cell_type": "code",
   "execution_count": 93,
   "id": "fc47e880-76f5-47ba-94d8-a547580471b2",
   "metadata": {},
   "outputs": [
    {
     "data": {
      "text/plain": [
       "<zip at 0x244dc411580>"
      ]
     },
     "execution_count": 93,
     "metadata": {},
     "output_type": "execute_result"
    }
   ],
   "source": [
    "zip(dict1,dict2)"
   ]
  },
  {
   "cell_type": "code",
   "execution_count": 91,
   "id": "03fa8074-8c6a-44c3-9148-f976b68b01db",
   "metadata": {},
   "outputs": [
    {
     "name": "stdout",
     "output_type": "stream",
     "text": [
      "name Krish\n",
      "name Amit\n",
      "lst_name Naik\n",
      "lst_name Verma\n",
      "age 30\n",
      "age 29\n"
     ]
    }
   ],
   "source": [
    "for (i,j),(i2,j2) in dictionary:\n",
    "    print(i, j)\n",
    "    print(i2,j2)"
   ]
  }
 ],
 "metadata": {
  "kernelspec": {
   "display_name": "Python 3 (ipykernel)",
   "language": "python",
   "name": "python3"
  },
  "language_info": {
   "codemirror_mode": {
    "name": "ipython",
    "version": 3
   },
   "file_extension": ".py",
   "mimetype": "text/x-python",
   "name": "python",
   "nbconvert_exporter": "python",
   "pygments_lexer": "ipython3",
   "version": "3.11.7"
  }
 },
 "nbformat": 4,
 "nbformat_minor": 5
}
