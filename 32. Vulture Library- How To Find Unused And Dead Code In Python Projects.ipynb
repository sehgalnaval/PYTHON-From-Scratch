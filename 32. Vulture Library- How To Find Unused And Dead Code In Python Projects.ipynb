{
 "cells": [
  {
   "cell_type": "code",
   "execution_count": 1,
   "id": "a37d1770-9ca6-4a96-8842-f17b118b6258",
   "metadata": {},
   "outputs": [],
   "source": [
    "# Vulture find unused and dead code"
   ]
  },
  {
   "cell_type": "code",
   "execution_count": 5,
   "id": "9fe841ba-ef5b-4ef5-93c2-c431d3ec4a93",
   "metadata": {},
   "outputs": [],
   "source": [
    "import os\n",
    "\n",
    "class Greeter:\n",
    "    def greet(self):\n",
    "        print ( \"Hi\")"
   ]
  },
  {
   "cell_type": "code",
   "execution_count": 9,
   "id": "a6923cb7-831d-407e-8b5d-1a0a52befaff",
   "metadata": {},
   "outputs": [],
   "source": [
    "def hello_world():\n",
    "    message = \"Hello, world!\"\n",
    "    greeter = Greeter ()\n",
    "    greet_func = getattr (greeter, \"greet\")\n",
    "    greet_func"
   ]
  },
  {
   "cell_type": "code",
   "execution_count": 11,
   "id": "bf8b89a0-6f0b-49e1-9a70-cf3e27ee3406",
   "metadata": {},
   "outputs": [],
   "source": [
    "if __name__==\"__main__\":\n",
    "    hello_world()"
   ]
  },
  {
   "cell_type": "code",
   "execution_count": 21,
   "id": "d15b91c8-ae2b-4c45-8987-bafef11cca69",
   "metadata": {},
   "outputs": [],
   "source": [
    "# ### Correct Way to Convert a Jupyter Notebook to a Python Script\n",
    "\n",
    "# To convert a Jupyter Notebook to a Python script, you'll need to execute the command in your system's terminal (command line), not inside a Jupyter Notebook.\n",
    "\n",
    "# Here's how to do it:\n",
    "\n",
    "# #### 1. Open a Terminal or Command Prompt\n",
    "\n",
    "# Depending on your operating system:\n",
    "# - **Windows**: Open Command Prompt or PowerShell.\n",
    "# - **macOS/Linux**: Open Terminal.\n",
    "\n",
    "# #### 2. Navigate to the Directory Containing Your Notebook\n",
    "\n",
    "# Use the `cd` command to navigate to the directory where your Jupyter Notebook file is located.\n",
    "\n",
    "# Example:\n",
    "# ```bash\n",
    "# cd path/to/your/notebook\n",
    "# ```\n",
    "\n",
    "# #### 3. Run the Conversion Command\n",
    "\n",
    "# Now, run the following command in the terminal:\n",
    "\n",
    "# ```bash\n",
    "# jupyter nbconvert --to script \"32. Vulture Library- How To Find Unused And Dead Code In Python Projects.ipynb\"\n",
    "# ```\n",
    "\n",
    "# This will create a `.py` file in the same directory.\n",
    "\n",
    "# ### Running Vulture on the Converted Script\n",
    "\n",
    "# After converting the notebook to a Python script, you can run Vulture as described before:\n",
    "\n",
    "# ```bash\n",
    "# vulture \"32. Vulture Library- How To Find Unused And Dead Code In Python Projects.py\"\n",
    "# ```\n",
    "\n",
    "# ### Summary:\n",
    "# - **Commands like `jupyter nbconvert` should be run in the terminal, not in a Jupyter Notebook cell.**\n",
    "# - Ensure that you navigate to the correct directory before running the conversion command.\n",
    "# - After converting, you can run Vulture on the generated `.py` file to find unused code."
   ]
  }
 ],
 "metadata": {
  "kernelspec": {
   "display_name": "Python 3 (ipykernel)",
   "language": "python",
   "name": "python3"
  },
  "language_info": {
   "codemirror_mode": {
    "name": "ipython",
    "version": 3
   },
   "file_extension": ".py",
   "mimetype": "text/x-python",
   "name": "python",
   "nbconvert_exporter": "python",
   "pygments_lexer": "ipython3",
   "version": "3.11.7"
  }
 },
 "nbformat": 4,
 "nbformat_minor": 5
}
