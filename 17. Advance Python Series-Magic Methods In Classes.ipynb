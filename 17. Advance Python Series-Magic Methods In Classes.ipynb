{
 "cells": [
  {
   "cell_type": "markdown",
   "id": "574d9bff-50ad-43d3-b158-7e78772a3be8",
   "metadata": {},
   "source": [
    "# Advance Python OOPS-Magic Methods In Classes"
   ]
  },
  {
   "cell_type": "code",
   "execution_count": 28,
   "id": "4391c4f5-15dd-4391-9335-e2f44b0093e8",
   "metadata": {},
   "outputs": [],
   "source": [
    "# All the class variables are public\n",
    "# Car Blueprint\n",
    "class Car():\n",
    "    def __init__(self,windows,doors,enginetype):\n",
    "        self.windows=windows\n",
    "        self.doors=doors\n",
    "        self.enginetype=enginetype\n",
    "        # method 2\n",
    "\n",
    "    # Over rising miagic method __init__\n",
    "    def __str__(self):\n",
    "        return(\"The object has been initialised\")\n",
    "    def drive(self):\n",
    "        print(\"The person is driving the car\")"
   ]
  },
  {
   "cell_type": "code",
   "execution_count": 30,
   "id": "c78a99df-307a-4d9e-b84e-dd96649fd053",
   "metadata": {},
   "outputs": [],
   "source": [
    "c=Car(4,5,'diesel')"
   ]
  },
  {
   "cell_type": "code",
   "execution_count": 32,
   "id": "ccc34e5c-bb3b-4eca-89f1-caa06c9928e3",
   "metadata": {},
   "outputs": [
    {
     "name": "stdout",
     "output_type": "stream",
     "text": [
      "The object has been initialised\n"
     ]
    }
   ],
   "source": [
    "print(c)"
   ]
  },
  {
   "cell_type": "code",
   "execution_count": 34,
   "id": "8bf90119-4cac-4155-905a-97260ba79f27",
   "metadata": {},
   "outputs": [
    {
     "data": {
      "text/plain": [
       "['__class__',\n",
       " '__delattr__',\n",
       " '__dict__',\n",
       " '__dir__',\n",
       " '__doc__',\n",
       " '__eq__',\n",
       " '__format__',\n",
       " '__ge__',\n",
       " '__getattribute__',\n",
       " '__getstate__',\n",
       " '__gt__',\n",
       " '__hash__',\n",
       " '__init__',\n",
       " '__init_subclass__',\n",
       " '__le__',\n",
       " '__lt__',\n",
       " '__module__',\n",
       " '__ne__',\n",
       " '__new__',\n",
       " '__reduce__',\n",
       " '__reduce_ex__',\n",
       " '__repr__',\n",
       " '__setattr__',\n",
       " '__sizeof__',\n",
       " '__str__',\n",
       " '__subclasshook__',\n",
       " '__weakref__',\n",
       " 'doors',\n",
       " 'drive',\n",
       " 'enginetype',\n",
       " 'windows']"
      ]
     },
     "execution_count": 34,
     "metadata": {},
     "output_type": "execute_result"
    }
   ],
   "source": [
    "dir(c)\n",
    "# Magic methods\n",
    "#  __init__"
   ]
  },
  {
   "cell_type": "code",
   "execution_count": null,
   "id": "e382c408-7522-4c9a-b79d-d50ab0f0d1cb",
   "metadata": {},
   "outputs": [],
   "source": [
    "# All the class variables are public\n",
    "# Car Blueprint\n",
    "class Car():\n",
    "    def __init__(self,windows,doors,enginetype):\n",
    "        self.windows=windows\n",
    "        self.doors=doors\n",
    "        self.enginetype=enginetype\n",
    "        # method 2\n",
    "\n",
    "    # Over rising miagic method __init__\n",
    "    def __str__(self):\n",
    "        return(\"The object has been initialised\")\n",
    "    def drive(self):\n",
    "        print(\"The person is driving the car\")"
   ]
  },
  {
   "cell_type": "code",
   "execution_count": 38,
   "id": "276381c2-4543-40a6-8a9b-81e341954fda",
   "metadata": {},
   "outputs": [
    {
     "data": {
      "text/plain": [
       "24"
      ]
     },
     "execution_count": 38,
     "metadata": {},
     "output_type": "execute_result"
    }
   ],
   "source": [
    "c.__sizeof__()"
   ]
  },
  {
   "cell_type": "code",
   "execution_count": 40,
   "id": "dfa1b8d1-9a2b-4492-a342-3db66f64ae13",
   "metadata": {},
   "outputs": [],
   "source": [
    "# All the class variables are public\n",
    "# Car Blueprint\n",
    "class Car():\n",
    "    def __init__(self,windows,doors,enginetype):\n",
    "        self.windows=windows\n",
    "        self.doors=doors\n",
    "        self.enginetype=enginetype\n",
    "        # method 2\n",
    "\n",
    "    # Over rising miagic method __init__\n",
    "    def __str__(self):\n",
    "        return(\"The object has been initialised\")\n",
    "    def __sizeof__(self):\n",
    "        return \"It is the size of 24 bytes\"\n",
    "    def drive(self):\n",
    "        print(\"The person is driving the car\")"
   ]
  },
  {
   "cell_type": "code",
   "execution_count": 48,
   "id": "d3aa869c-25f4-4d02-9520-d99d04228765",
   "metadata": {},
   "outputs": [],
   "source": [
    "c=Car(4,5,'diesel')"
   ]
  },
  {
   "cell_type": "code",
   "execution_count": 50,
   "id": "24765b7e-620f-4e0a-adca-cff8de1384fd",
   "metadata": {},
   "outputs": [
    {
     "name": "stdout",
     "output_type": "stream",
     "text": [
      "The object has been initialised\n"
     ]
    }
   ],
   "source": [
    "print(c)"
   ]
  },
  {
   "cell_type": "code",
   "execution_count": 54,
   "id": "46621579-291c-4aaa-b756-c3df2ee5604a",
   "metadata": {},
   "outputs": [
    {
     "data": {
      "text/plain": [
       "'It is the size of 24 bytes'"
      ]
     },
     "execution_count": 54,
     "metadata": {},
     "output_type": "execute_result"
    }
   ],
   "source": [
    "c.__sizeof__()"
   ]
  },
  {
   "cell_type": "raw",
   "id": "d84b328a-121d-42db-8566-9dffe7099ba7",
   "metadata": {},
   "source": [
    "In Python, the __new__ and __init__ methods are both part of the process of creating and initializing a new object, but they serve different purposes and are called at different times.\n",
    "\n",
    "__new__ Method\n",
    "Purpose: The __new__ method is responsible for actually creating a new instance of a class. It is a static method that takes the class itself as the first argument, along with any other arguments that were passed to the class constructor.\n",
    "\n",
    "__init__ Method\n",
    "Purpose: The __init__ method initializes an already created instance of the class. It is an instance method that takes the newly created instance (self) as the first argument, followed by any additional arguments that were passed to the class constructor.\n"
   ]
  },
  {
   "cell_type": "code",
   "execution_count": 56,
   "id": "b54eb190-78a9-4f16-96c8-80bb1776314d",
   "metadata": {},
   "outputs": [],
   "source": [
    "# All the class variables are public\n",
    "# Car Blueprint\n",
    "class Car():\n",
    "    def __new__(self,windows,doors,enginetype):\n",
    "        print(\"The object is getting initialised started, new\")\n",
    "    def __init__(self,windows,doors,enginetype):\n",
    "        self.windows=windows\n",
    "        self.doors=doors\n",
    "        self.enginetype=enginetype\n",
    "        # method 2\n",
    "\n",
    "    # Over rising miagic method __init__\n",
    "    def __str__(self):\n",
    "        return(\"The object has been initialised\")\n",
    "    def __sizeof__(self):\n",
    "        return \"It is the size of 24 bytes\"\n",
    "    def drive(self):\n",
    "        print(\"The person is driving the car\")"
   ]
  },
  {
   "cell_type": "code",
   "execution_count": 58,
   "id": "89c96a3c-d43b-46bb-bb8f-3595d39f7412",
   "metadata": {},
   "outputs": [
    {
     "name": "stdout",
     "output_type": "stream",
     "text": [
      "The object is getting initialised started, new\n"
     ]
    }
   ],
   "source": [
    "# New method will be called before init\n",
    "c=Car(4,5,'diesel')"
   ]
  }
 ],
 "metadata": {
  "kernelspec": {
   "display_name": "Python 3 (ipykernel)",
   "language": "python",
   "name": "python3"
  },
  "language_info": {
   "codemirror_mode": {
    "name": "ipython",
    "version": 3
   },
   "file_extension": ".py",
   "mimetype": "text/x-python",
   "name": "python",
   "nbconvert_exporter": "python",
   "pygments_lexer": "ipython3",
   "version": "3.11.7"
  }
 },
 "nbformat": 4,
 "nbformat_minor": 5
}
