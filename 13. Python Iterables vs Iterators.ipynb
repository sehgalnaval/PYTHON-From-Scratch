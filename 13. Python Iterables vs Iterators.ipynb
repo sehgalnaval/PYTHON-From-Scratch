{
 "cells": [
  {
   "cell_type": "markdown",
   "id": "129dba43-8d04-443c-b1f4-0eb5585c3279",
   "metadata": {},
   "source": [
    "#  Python Iterables vs Iterators"
   ]
  },
  {
   "cell_type": "code",
   "execution_count": 41,
   "id": "1aab4221-4d09-4948-a774-73e6fb320792",
   "metadata": {},
   "outputs": [
    {
     "name": "stdout",
     "output_type": "stream",
     "text": [
      "1\n",
      "2\n",
      "3\n",
      "4\n",
      "5\n",
      "6\n",
      "7\n"
     ]
    }
   ],
   "source": [
    "# List is iterable\n",
    "lst=[1,2,3,4,5,6,7]\n",
    "for i in lst:\n",
    "    print(i)"
   ]
  },
  {
   "cell_type": "code",
   "execution_count": 42,
   "id": "f0929bdd-93c7-437f-a1c0-d54b7b43f050",
   "metadata": {},
   "outputs": [],
   "source": [
    "# iter( inbuilt function converts a list into a iterator)\n",
    "lst1=iter(lst)"
   ]
  },
  {
   "cell_type": "code",
   "execution_count": 43,
   "id": "627c241b-a496-40a3-84c7-2df9b58e38e6",
   "metadata": {},
   "outputs": [
    {
     "data": {
      "text/plain": [
       "<list_iterator at 0x14fd235a110>"
      ]
     },
     "execution_count": 43,
     "metadata": {},
     "output_type": "execute_result"
    }
   ],
   "source": [
    "lst1"
   ]
  },
  {
   "cell_type": "code",
   "execution_count": 44,
   "id": "983b6aba-cace-43f9-98d8-309620c91fd0",
   "metadata": {},
   "outputs": [
    {
     "data": {
      "text/plain": [
       "1"
      ]
     },
     "execution_count": 44,
     "metadata": {},
     "output_type": "execute_result"
    }
   ],
   "source": [
    "# Retrieving all the elements in the iterator lst1 using inbuilt function next\n",
    "next(lst1)"
   ]
  },
  {
   "cell_type": "code",
   "execution_count": 45,
   "id": "75cbcf3b-e58b-462f-a4bd-48bf8d4e0e25",
   "metadata": {},
   "outputs": [
    {
     "data": {
      "text/plain": [
       "2"
      ]
     },
     "execution_count": 45,
     "metadata": {},
     "output_type": "execute_result"
    }
   ],
   "source": [
    "# One elements at a time, after that u wil get a error.\n",
    "next(lst1)"
   ]
  },
  {
   "cell_type": "code",
   "execution_count": 56,
   "id": "4438f2e2-9aa1-4a04-94f3-1f7c5ec10dc3",
   "metadata": {},
   "outputs": [
    {
     "ename": "StopIteration",
     "evalue": "",
     "output_type": "error",
     "traceback": [
      "\u001b[1;31m---------------------------------------------------------------------------\u001b[0m",
      "\u001b[1;31mStopIteration\u001b[0m                             Traceback (most recent call last)",
      "Cell \u001b[1;32mIn[56], line 2\u001b[0m\n\u001b[0;32m      1\u001b[0m \u001b[38;5;66;03m# After running next 7 times, as they have only 7 elements\u001b[39;00m\n\u001b[1;32m----> 2\u001b[0m \u001b[38;5;28mnext\u001b[39m(lst1)\n",
      "\u001b[1;31mStopIteration\u001b[0m: "
     ]
    }
   ],
   "source": [
    "# After running next 7 times, as they have only 7 elements\n",
    "next(lst1)"
   ]
  },
  {
   "cell_type": "code",
   "execution_count": 47,
   "id": "93c22764-6833-4c2f-9e82-eb3b52303c92",
   "metadata": {},
   "outputs": [
    {
     "name": "stdout",
     "output_type": "stream",
     "text": [
      "4\n",
      "5\n",
      "6\n",
      "7\n"
     ]
    }
   ],
   "source": [
    "# Other way of retrieving the values\n",
    "# For loop can used to retrieve iterators and iterables\n",
    "for i in lst1:\n",
    "    print(i)"
   ]
  },
  {
   "cell_type": "markdown",
   "id": "1b769b85-383e-4c18-9231-76f3354f91fe",
   "metadata": {},
   "source": [
    "If your list have 1000 times, when we convert into interator, we can retrieve  the nth element whenever we want"
   ]
  }
 ],
 "metadata": {
  "kernelspec": {
   "display_name": "Python 3 (ipykernel)",
   "language": "python",
   "name": "python3"
  },
  "language_info": {
   "codemirror_mode": {
    "name": "ipython",
    "version": 3
   },
   "file_extension": ".py",
   "mimetype": "text/x-python",
   "name": "python",
   "nbconvert_exporter": "python",
   "pygments_lexer": "ipython3",
   "version": "3.11.7"
  }
 },
 "nbformat": 4,
 "nbformat_minor": 5
}
