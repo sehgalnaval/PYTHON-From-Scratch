{
 "cells": [
  {
   "cell_type": "code",
   "execution_count": 1,
   "id": "8f6f8bbc-107a-4ab8-aef1-41ccc4b7f9f9",
   "metadata": {},
   "outputs": [
    {
     "name": "stdout",
     "output_type": "stream",
     "text": [
      "Collecting PyPDF2\n",
      "  Downloading pypdf2-3.0.1-py3-none-any.whl.metadata (6.8 kB)\n",
      "Downloading pypdf2-3.0.1-py3-none-any.whl (232 kB)\n",
      "   ---------------------------------------- 0.0/232.6 kB ? eta -:--:--\n",
      "   - -------------------------------------- 10.2/232.6 kB ? eta -:--:--\n",
      "   ----- --------------------------------- 30.7/232.6 kB 435.7 kB/s eta 0:00:01\n",
      "   ------ -------------------------------- 41.0/232.6 kB 393.8 kB/s eta 0:00:01\n",
      "   -------------------------- ------------- 153.6/232.6 kB 1.0 MB/s eta 0:00:01\n",
      "   ---------------------------------------- 232.6/232.6 kB 1.3 MB/s eta 0:00:00\n",
      "Installing collected packages: PyPDF2\n",
      "Successfully installed PyPDF2-3.0.1\n"
     ]
    }
   ],
   "source": [
    "!pip install PyPDF2"
   ]
  },
  {
   "cell_type": "code",
   "execution_count": 15,
   "id": "b2f39898-ae33-485c-91fd-f9f04600dc77",
   "metadata": {},
   "outputs": [],
   "source": [
    "# read and then keep encryption in it\n",
    "from PyPDF2 import PdfReader, PdfWriter"
   ]
  },
  {
   "cell_type": "code",
   "execution_count": 17,
   "id": "eaeda703-109e-47a9-af64-60f67559befb",
   "metadata": {},
   "outputs": [],
   "source": [
    "# open the current pdf\n",
    "file_pdf=PdfReader('sample.pdf')\n",
    "# Object for object Writer\n",
    "out_pdf=PdfWriter()"
   ]
  },
  {
   "cell_type": "code",
   "execution_count": 25,
   "id": "3ce5bf56-e903-4f90-88b3-eb29ba7e2b54",
   "metadata": {},
   "outputs": [
    {
     "data": {
      "text/plain": [
       "<PyPDF2._reader.PdfReader at 0x267ac40acd0>"
      ]
     },
     "execution_count": 25,
     "metadata": {},
     "output_type": "execute_result"
    }
   ],
   "source": [
    "file_pdf"
   ]
  },
  {
   "cell_type": "code",
   "execution_count": 33,
   "id": "8ee0bb4a-c580-4fd7-b9f5-c1053531796f",
   "metadata": {},
   "outputs": [
    {
     "data": {
      "text/plain": [
       "1"
      ]
     },
     "execution_count": 33,
     "metadata": {},
     "output_type": "execute_result"
    }
   ],
   "source": [
    "num_pages = len(file_pdf.pages)\n",
    "num_pages"
   ]
  },
  {
   "cell_type": "code",
   "execution_count": 41,
   "id": "839eca49-5455-430a-a307-08c567aaf849",
   "metadata": {},
   "outputs": [],
   "source": [
    "for i in range(len(file_pdf.pages)):\n",
    "    pag_details = file_pdf.pages[i]\n",
    "    out_pdf = PdfWriter()"
   ]
  },
  {
   "cell_type": "code",
   "execution_count": 45,
   "id": "32d993a5-ac84-4855-9cf5-188584678f88",
   "metadata": {},
   "outputs": [],
   "source": [
    "password='1234@56'\n",
    "\n",
    "out_pdf.encrypt(password)"
   ]
  },
  {
   "cell_type": "code",
   "execution_count": 49,
   "id": "e73c168e-14aa-49ce-9a00-be2a649333e7",
   "metadata": {},
   "outputs": [],
   "source": [
    "with open ('encrypted_sample.pdf','wb')as filename:\n",
    "    out_pdf.write(filename)"
   ]
  },
  {
   "cell_type": "code",
   "execution_count": null,
   "id": "74b17fdc-5aa2-4fd5-8645-1fa000fed230",
   "metadata": {},
   "outputs": [],
   "source": []
  }
 ],
 "metadata": {
  "kernelspec": {
   "display_name": "Python 3 (ipykernel)",
   "language": "python",
   "name": "python3"
  },
  "language_info": {
   "codemirror_mode": {
    "name": "ipython",
    "version": 3
   },
   "file_extension": ".py",
   "mimetype": "text/x-python",
   "name": "python",
   "nbconvert_exporter": "python",
   "pygments_lexer": "ipython3",
   "version": "3.11.7"
  }
 },
 "nbformat": 4,
 "nbformat_minor": 5
}
