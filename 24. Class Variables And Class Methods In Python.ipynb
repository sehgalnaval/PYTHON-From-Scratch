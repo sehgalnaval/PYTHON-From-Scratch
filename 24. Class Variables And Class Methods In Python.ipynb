{
 "cells": [
  {
   "cell_type": "markdown",
   "id": "630c1380-5b0e-499d-9adb-8f40926d8550",
   "metadata": {},
   "source": [
    "### Class Variables And Class Methods In Python"
   ]
  },
  {
   "cell_type": "code",
   "execution_count": 12,
   "id": "9855dd31-971e-40ad-a985-f01abe400d2b",
   "metadata": {},
   "outputs": [],
   "source": [
    "class Car:\n",
    "    base_price= 100000 # Class variables\n",
    "    def __init__(self,windows,doors,power):\n",
    "        self.windows=windows\n",
    "        self.power=power\n",
    "        self.doors=doors\n",
    "    def what_is_baseprice(self):\n",
    "        print(\"The base price of the cars is {}\".format(self.base_price))\n",
    "    "
   ]
  },
  {
   "cell_type": "code",
   "execution_count": 13,
   "id": "f0ac07ff-61be-490c-b117-14a1a608319d",
   "metadata": {},
   "outputs": [
    {
     "name": "stdout",
     "output_type": "stream",
     "text": [
      "The base price of the cars is 100000\n"
     ]
    }
   ],
   "source": [
    "# car1=Car(4,4,3000)\n",
    "# car1.what_is_baseprice()"
   ]
  },
  {
   "cell_type": "code",
   "execution_count": 14,
   "id": "97f96463-cced-440c-9f49-df7b03361677",
   "metadata": {},
   "outputs": [
    {
     "data": {
      "text/plain": [
       "100000"
      ]
     },
     "execution_count": 14,
     "metadata": {},
     "output_type": "execute_result"
    }
   ],
   "source": [
    "# car1.base_price"
   ]
  },
  {
   "cell_type": "code",
   "execution_count": 15,
   "id": "5f0e4c1b-e767-43c4-87da-b90defa6ad72",
   "metadata": {},
   "outputs": [
    {
     "data": {
      "text/plain": [
       "100000"
      ]
     },
     "execution_count": 15,
     "metadata": {},
     "output_type": "execute_result"
    }
   ],
   "source": [
    "# Car.base_price"
   ]
  },
  {
   "cell_type": "code",
   "execution_count": 35,
   "id": "a64d5ce9-2d70-439c-92bf-0d0df3be9315",
   "metadata": {},
   "outputs": [],
   "source": [
    "# Adding inflation of base price for the car every year by 10%:\n",
    "# Using class methods to do this itself, decoraator @classmethod\n",
    "class Car:\n",
    "    base_price= 100000 # Class variables\n",
    "    def __init__(self,windows,doors,power):\n",
    "        self.windows=windows\n",
    "        self.power=power\n",
    "        self.doors=doors\n",
    "    def what_is_baseprice(self):\n",
    "        print(\"The base price of the cars is {}\".format(self.base_price))\n",
    "    @classmethod\n",
    "    def revise_base_price(cls,inflation):\n",
    "        cls.base_price=cls.base_price+cls.base_price*inflation\n",
    "    "
   ]
  },
  {
   "cell_type": "code",
   "execution_count": 37,
   "id": "da6c87dc-918d-440a-9f99-3371aac5ff94",
   "metadata": {},
   "outputs": [],
   "source": [
    "car1=Car(4,5,200)"
   ]
  },
  {
   "cell_type": "code",
   "execution_count": 39,
   "id": "fa0744ec-3d29-4c49-8cfd-ca6c97e8ef62",
   "metadata": {},
   "outputs": [
    {
     "data": {
      "text/plain": [
       "100000"
      ]
     },
     "execution_count": 39,
     "metadata": {},
     "output_type": "execute_result"
    }
   ],
   "source": [
    "car1.base_price"
   ]
  },
  {
   "cell_type": "code",
   "execution_count": 41,
   "id": "4cc29894-c822-4f36-8d3c-6a8b4b76db09",
   "metadata": {},
   "outputs": [],
   "source": [
    "# for next year\n",
    "Car.revise_base_price(0.10)"
   ]
  },
  {
   "cell_type": "code",
   "execution_count": 43,
   "id": "68ae5aab-8fdc-4f8c-8759-9247a436415c",
   "metadata": {},
   "outputs": [
    {
     "data": {
      "text/plain": [
       "110000.0"
      ]
     },
     "execution_count": 43,
     "metadata": {},
     "output_type": "execute_result"
    }
   ],
   "source": [
    "Car.base_price"
   ]
  },
  {
   "cell_type": "code",
   "execution_count": 45,
   "id": "1ed0b6b1-b0e7-4e9a-b2d8-e863b304f477",
   "metadata": {},
   "outputs": [
    {
     "data": {
      "text/plain": [
       "110000.0"
      ]
     },
     "execution_count": 45,
     "metadata": {},
     "output_type": "execute_result"
    }
   ],
   "source": [
    "car1.base_price"
   ]
  }
 ],
 "metadata": {
  "kernelspec": {
   "display_name": "Python 3 (ipykernel)",
   "language": "python",
   "name": "python3"
  },
  "language_info": {
   "codemirror_mode": {
    "name": "ipython",
    "version": 3
   },
   "file_extension": ".py",
   "mimetype": "text/x-python",
   "name": "python",
   "nbconvert_exporter": "python",
   "pygments_lexer": "ipython3",
   "version": "3.11.7"
  }
 },
 "nbformat": 4,
 "nbformat_minor": 5
}
