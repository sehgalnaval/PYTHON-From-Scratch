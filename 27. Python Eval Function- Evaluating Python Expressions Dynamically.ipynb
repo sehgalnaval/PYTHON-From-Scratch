{
 "cells": [
  {
   "cell_type": "code",
   "execution_count": 3,
   "id": "9aabc0be-968f-425e-b694-2edbd32cca70",
   "metadata": {},
   "outputs": [
    {
     "data": {
      "text/plain": [
       "25"
      ]
     },
     "execution_count": 3,
     "metadata": {},
     "output_type": "execute_result"
    }
   ],
   "source": [
    "5*5"
   ]
  },
  {
   "cell_type": "code",
   "execution_count": 11,
   "id": "4d7f505e-4334-469b-bce1-999eb99dbf4f",
   "metadata": {},
   "outputs": [
    {
     "data": {
      "text/plain": [
       "25"
      ]
     },
     "execution_count": 11,
     "metadata": {},
     "output_type": "execute_result"
    }
   ],
   "source": [
    "# Eval function evaluate python expression which are written as strings,but it should be valid syntax in python\n",
    "eval('5*5')"
   ]
  },
  {
   "cell_type": "code",
   "execution_count": 26,
   "id": "09c48435-16fb-46dd-b688-36d0d7cfea84",
   "metadata": {},
   "outputs": [
    {
     "name": "stdin",
     "output_type": "stream",
     "text": [
      "Enter the Expression len([1,2,3,4])\n"
     ]
    },
    {
     "data": {
      "text/plain": [
       "4"
      ]
     },
     "execution_count": 26,
     "metadata": {},
     "output_type": "execute_result"
    }
   ],
   "source": [
    "eval(input('Enter the Expression'))"
   ]
  },
  {
   "cell_type": "code",
   "execution_count": 28,
   "id": "498837d9-4fe3-4296-b682-38ce4db5bff9",
   "metadata": {},
   "outputs": [
    {
     "name": "stdin",
     "output_type": "stream",
     "text": [
      "Enter the Expression sum([1,2,3,4,5])\n"
     ]
    },
    {
     "data": {
      "text/plain": [
       "15"
      ]
     },
     "execution_count": 28,
     "metadata": {},
     "output_type": "execute_result"
    }
   ],
   "source": [
    "eval(input('Enter the Expression'))"
   ]
  },
  {
   "cell_type": "code",
   "execution_count": 30,
   "id": "15d824f5-9d8f-4fe5-915f-398191be336f",
   "metadata": {},
   "outputs": [],
   "source": [
    "def square_num(num):\n",
    "    return num**2"
   ]
  },
  {
   "cell_type": "code",
   "execution_count": 34,
   "id": "a344100d-409a-4c4e-8b3a-1ea1cb1bae53",
   "metadata": {},
   "outputs": [
    {
     "data": {
      "text/plain": [
       "25"
      ]
     },
     "execution_count": 34,
     "metadata": {},
     "output_type": "execute_result"
    }
   ],
   "source": [
    "square_num(5)"
   ]
  },
  {
   "cell_type": "code",
   "execution_count": 36,
   "id": "27562a04-d475-4071-98e7-64b7e1db7e9a",
   "metadata": {},
   "outputs": [
    {
     "name": "stdin",
     "output_type": "stream",
     "text": [
      "Enter the Expression square_num(5)\n"
     ]
    },
    {
     "data": {
      "text/plain": [
       "25"
      ]
     },
     "execution_count": 36,
     "metadata": {},
     "output_type": "execute_result"
    }
   ],
   "source": [
    "eval(input('Enter the Expression'))"
   ]
  },
  {
   "cell_type": "code",
   "execution_count": 42,
   "id": "1a7e7594-e9e3-4e75-ae16-9541b8a7b033",
   "metadata": {},
   "outputs": [
    {
     "data": {
      "text/plain": [
       "25"
      ]
     },
     "execution_count": 42,
     "metadata": {},
     "output_type": "execute_result"
    }
   ],
   "source": [
    "eval('square_num(5)')"
   ]
  },
  {
   "cell_type": "markdown",
   "id": "783d5484-38b2-438a-b11f-f78f67427cd6",
   "metadata": {},
   "source": [
    "#### How does Eval actually work\n",
    "1. Parse python Expression.\n",
    "2. Complie into a byte code.\n",
    "3. Evaluate the python expression.\n",
    "4. Return the Result."
   ]
  },
  {
   "cell_type": "code",
   "execution_count": 49,
   "id": "fa556f31-bbd1-4989-8e14-b7a7f96b698c",
   "metadata": {},
   "outputs": [],
   "source": [
    "var=compile(\"5*5\",\"<string>\",\"eval\")"
   ]
  },
  {
   "cell_type": "code",
   "execution_count": 53,
   "id": "3edceb96-83f5-4299-a508-1db4d56385e3",
   "metadata": {},
   "outputs": [
    {
     "data": {
      "text/plain": [
       "25"
      ]
     },
     "execution_count": 53,
     "metadata": {},
     "output_type": "execute_result"
    }
   ],
   "source": [
    "eval(var)"
   ]
  },
  {
   "cell_type": "code",
   "execution_count": 57,
   "id": "98f3c11c-7572-4379-b307-f88711669291",
   "metadata": {},
   "outputs": [
    {
     "data": {
      "text/plain": [
       "160"
      ]
     },
     "execution_count": 57,
     "metadata": {},
     "output_type": "execute_result"
    }
   ],
   "source": [
    "# Globals Paramter\n",
    "eval(\"x+50+x**2\",{\"x\":10})"
   ]
  },
  {
   "cell_type": "code",
   "execution_count": 61,
   "id": "be94677d-6f04-487d-b5f9-aafd58fa2dfa",
   "metadata": {},
   "outputs": [
    {
     "data": {
      "text/plain": [
       "160"
      ]
     },
     "execution_count": 61,
     "metadata": {},
     "output_type": "execute_result"
    }
   ],
   "source": [
    "# OR\n",
    "x=10\n",
    "eval(\"x+50+x**2\",{\"x\":x})"
   ]
  },
  {
   "cell_type": "code",
   "execution_count": 65,
   "id": "2318d1ff-c91e-4cb3-a660-169347ae64ec",
   "metadata": {},
   "outputs": [
    {
     "data": {
      "text/plain": [
       "200"
      ]
     },
     "execution_count": 65,
     "metadata": {},
     "output_type": "execute_result"
    }
   ],
   "source": [
    "x=100\n",
    "z=100\n",
    "eval(\"x+z\")"
   ]
  },
  {
   "cell_type": "code",
   "execution_count": 67,
   "id": "8f74c357-1bb8-4392-9c0b-a8f217ce85f4",
   "metadata": {},
   "outputs": [
    {
     "data": {
      "text/plain": [
       "200"
      ]
     },
     "execution_count": 67,
     "metadata": {},
     "output_type": "execute_result"
    }
   ],
   "source": [
    "x=100\n",
    "z=100\n",
    "eval(\"x+z\",{\"x\":x,\"z\":z})"
   ]
  },
  {
   "cell_type": "code",
   "execution_count": 71,
   "id": "123f41c3-022d-4556-b2dc-c8212ff777f9",
   "metadata": {},
   "outputs": [
    {
     "data": {
      "text/plain": [
       "130"
      ]
     },
     "execution_count": 71,
     "metadata": {},
     "output_type": "execute_result"
    }
   ],
   "source": [
    "# Local Expression\n",
    "eval(\"a+b+c\",{},{\"a\":10,\"b\":20,\"c\":100})"
   ]
  },
  {
   "cell_type": "code",
   "execution_count": 73,
   "id": "002f6081-6328-4ce2-a221-ef210534ff7e",
   "metadata": {},
   "outputs": [
    {
     "data": {
      "text/plain": [
       "True"
      ]
     },
     "execution_count": 73,
     "metadata": {},
     "output_type": "execute_result"
    }
   ],
   "source": [
    "a=100\n",
    "b=200\n",
    "eval(\"a<b\")"
   ]
  }
 ],
 "metadata": {
  "kernelspec": {
   "display_name": "Python 3 (ipykernel)",
   "language": "python",
   "name": "python3"
  },
  "language_info": {
   "codemirror_mode": {
    "name": "ipython",
    "version": 3
   },
   "file_extension": ".py",
   "mimetype": "text/x-python",
   "name": "python",
   "nbconvert_exporter": "python",
   "pygments_lexer": "ipython3",
   "version": "3.11.7"
  }
 },
 "nbformat": 4,
 "nbformat_minor": 5
}
