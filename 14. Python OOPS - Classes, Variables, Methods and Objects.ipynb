{
 "cells": [
  {
   "cell_type": "markdown",
   "id": "0f86deb0-ef66-4aac-9f3a-16cd51362161",
   "metadata": {},
   "source": [
    "# Python OOPS - Classes, Variables, Methods and Objects "
   ]
  },
  {
   "cell_type": "code",
   "execution_count": 47,
   "id": "106e4c2e-d4df-4f41-b9fd-aa49c90bb051",
   "metadata": {},
   "outputs": [],
   "source": [
    "# !pip install pyforest"
   ]
  },
  {
   "cell_type": "code",
   "execution_count": 48,
   "id": "2962d312-0248-4523-afb7-4b21c54bdced",
   "metadata": {},
   "outputs": [],
   "source": [
    "# Class- Real world objects having properties, attributes and functions"
   ]
  },
  {
   "cell_type": "code",
   "execution_count": 49,
   "id": "d2f5c2d1-db8a-4b4a-8016-95a57bc81255",
   "metadata": {},
   "outputs": [],
   "source": [
    "class Car:\n",
    "    # Making a empty class or a bad manner\n",
    "    pass"
   ]
  },
  {
   "cell_type": "code",
   "execution_count": 50,
   "id": "5bdb09ea-b2f2-44c8-89fc-7e8b75205e75",
   "metadata": {},
   "outputs": [],
   "source": [
    "car1=Car()"
   ]
  },
  {
   "cell_type": "code",
   "execution_count": 51,
   "id": "adc5c26c-7164-4609-bff4-f4141530ff64",
   "metadata": {},
   "outputs": [
    {
     "data": {
      "text/plain": [
       "<__main__.Car at 0x276e66b0610>"
      ]
     },
     "execution_count": 51,
     "metadata": {},
     "output_type": "execute_result"
    }
   ],
   "source": [
    "car1"
   ]
  },
  {
   "cell_type": "code",
   "execution_count": 52,
   "id": "df0f13a4-a2af-493e-8878-212df709088c",
   "metadata": {},
   "outputs": [],
   "source": [
    "car1.windows=5\n",
    "car1.doors=4"
   ]
  },
  {
   "cell_type": "code",
   "execution_count": 53,
   "id": "8bdb757b-835d-4e45-b5db-0403e9df2dd5",
   "metadata": {},
   "outputs": [
    {
     "name": "stdout",
     "output_type": "stream",
     "text": [
      "5\n"
     ]
    }
   ],
   "source": [
    "print(car1.windows)"
   ]
  },
  {
   "cell_type": "code",
   "execution_count": 54,
   "id": "fd8537f1-9bd2-4f1e-b73d-fbe79c0db81b",
   "metadata": {},
   "outputs": [],
   "source": [
    "car2=Car()"
   ]
  },
  {
   "cell_type": "code",
   "execution_count": 55,
   "id": "0561d582-4579-4607-8ee1-f48b0a3a506f",
   "metadata": {},
   "outputs": [],
   "source": [
    "car2.windows=3\n",
    "car2.doors=2"
   ]
  },
  {
   "cell_type": "code",
   "execution_count": 56,
   "id": "5e6c7096-280b-41e2-a5db-ef1e75bb5fa3",
   "metadata": {},
   "outputs": [
    {
     "name": "stdout",
     "output_type": "stream",
     "text": [
      "3\n"
     ]
    }
   ],
   "source": [
    "print(car2.windows)"
   ]
  },
  {
   "cell_type": "code",
   "execution_count": 57,
   "id": "ffe70fe0-5a62-4df0-b0be-2bc482ff1e81",
   "metadata": {},
   "outputs": [],
   "source": [
    "car2.engine_type='petrol'"
   ]
  },
  {
   "cell_type": "code",
   "execution_count": 58,
   "id": "77daba83-4fca-4276-b1d5-ac8984fa5312",
   "metadata": {},
   "outputs": [
    {
     "name": "stdout",
     "output_type": "stream",
     "text": [
      "petrol\n"
     ]
    }
   ],
   "source": [
    "print(car2.engine_type)"
   ]
  },
  {
   "cell_type": "code",
   "execution_count": 59,
   "id": "d99f1caf-60b3-4758-9b04-aa80ef6adcdf",
   "metadata": {},
   "outputs": [],
   "source": [
    "# THE ABOVE WERE Not good methods now we use the appropriate methods"
   ]
  },
  {
   "cell_type": "code",
   "execution_count": 60,
   "id": "5fcf6148-c13f-41b6-b8e8-eb8d598cec58",
   "metadata": {},
   "outputs": [
    {
     "data": {
      "text/plain": [
       "['__class__',\n",
       " '__delattr__',\n",
       " '__dict__',\n",
       " '__dir__',\n",
       " '__doc__',\n",
       " '__eq__',\n",
       " '__format__',\n",
       " '__ge__',\n",
       " '__getattribute__',\n",
       " '__getstate__',\n",
       " '__gt__',\n",
       " '__hash__',\n",
       " '__init__',\n",
       " '__init_subclass__',\n",
       " '__le__',\n",
       " '__lt__',\n",
       " '__module__',\n",
       " '__ne__',\n",
       " '__new__',\n",
       " '__reduce__',\n",
       " '__reduce_ex__',\n",
       " '__repr__',\n",
       " '__setattr__',\n",
       " '__sizeof__',\n",
       " '__str__',\n",
       " '__subclasshook__',\n",
       " '__weakref__',\n",
       " 'doors',\n",
       " 'windows']"
      ]
     },
     "execution_count": 60,
     "metadata": {},
     "output_type": "execute_result"
    }
   ],
   "source": [
    "dir(car1)"
   ]
  },
  {
   "cell_type": "code",
   "execution_count": 61,
   "id": "7e2c8eed-63ee-4ab6-86b2-196620921f6e",
   "metadata": {},
   "outputs": [],
   "source": [
    "# Using Constructors\n",
    "class Car:\n",
    "    def __init__(self, window, door, engine_type):\n",
    "        self.windows=window\n",
    "        self.door=door\n",
    "        self.engine_type=engine_type\n",
    "    def self_driving(self):\n",
    "        return \"This is a {} car\".format(self.engine_type)\n",
    "# Creating 3 attributes windows, door and engine_type"
   ]
  },
  {
   "cell_type": "code",
   "execution_count": 62,
   "id": "2964a8da-6bb6-48b1-a90f-bec0a2a2a9ab",
   "metadata": {},
   "outputs": [],
   "source": [
    "car1=Car(4,4,'petrol')"
   ]
  },
  {
   "cell_type": "code",
   "execution_count": 63,
   "id": "896437f3-a7f0-49f4-9089-6430f89bcddd",
   "metadata": {},
   "outputs": [],
   "source": [
    "car2=Car(3,4,'diesel')"
   ]
  },
  {
   "cell_type": "code",
   "execution_count": 64,
   "id": "ca928d56-4185-4f5f-ae75-a41e6a905b9c",
   "metadata": {},
   "outputs": [
    {
     "data": {
      "text/plain": [
       "4"
      ]
     },
     "execution_count": 64,
     "metadata": {},
     "output_type": "execute_result"
    }
   ],
   "source": [
    "car1.windows"
   ]
  },
  {
   "cell_type": "code",
   "execution_count": 65,
   "id": "6d473433-8ec2-4799-99e3-e938041fb04c",
   "metadata": {},
   "outputs": [
    {
     "data": {
      "text/plain": [
       "'diesel'"
      ]
     },
     "execution_count": 65,
     "metadata": {},
     "output_type": "execute_result"
    }
   ],
   "source": [
    "car2.engine_type"
   ]
  },
  {
   "cell_type": "code",
   "execution_count": 67,
   "id": "f7408145-f561-4831-8245-6c4e7bd33338",
   "metadata": {},
   "outputs": [
    {
     "data": {
      "text/plain": [
       "'This is a petrol car'"
      ]
     },
     "execution_count": 67,
     "metadata": {},
     "output_type": "execute_result"
    }
   ],
   "source": [
    "car1.self_driving()"
   ]
  }
 ],
 "metadata": {
  "kernelspec": {
   "display_name": "Python 3 (ipykernel)",
   "language": "python",
   "name": "python3"
  },
  "language_info": {
   "codemirror_mode": {
    "name": "ipython",
    "version": 3
   },
   "file_extension": ".py",
   "mimetype": "text/x-python",
   "name": "python",
   "nbconvert_exporter": "python",
   "pygments_lexer": "ipython3",
   "version": "3.11.7"
  }
 },
 "nbformat": 4,
 "nbformat_minor": 5
}
