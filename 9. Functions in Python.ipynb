{
 "cells": [
  {
   "cell_type": "markdown",
   "id": "5667d0ed-c7b0-4efa-9c55-a6c79b5583d6",
   "metadata": {},
   "source": [
    "# FUNCTIONS"
   ]
  },
  {
   "cell_type": "code",
   "execution_count": 123,
   "id": "0eaab94b-d6b1-491f-ac2b-10b22bb1067f",
   "metadata": {},
   "outputs": [
    {
     "name": "stdout",
     "output_type": "stream",
     "text": [
      "Even\n"
     ]
    }
   ],
   "source": [
    "num=24\n",
    "if num%2==0:\n",
    "    print('Even')\n",
    "else:\n",
    "    print('Not even')"
   ]
  },
  {
   "cell_type": "code",
   "execution_count": 124,
   "id": "a8f9f588-a00b-4d45-a20d-fbc869915442",
   "metadata": {},
   "outputs": [],
   "source": [
    "def even_odd(num):\n",
    "    if num%2==0:\n",
    "        print('Even')\n",
    "    else:\n",
    "        print('Odd')\n",
    "    "
   ]
  },
  {
   "cell_type": "code",
   "execution_count": 125,
   "id": "45e785ed-33a8-4de1-8312-564467042a23",
   "metadata": {},
   "outputs": [
    {
     "name": "stdout",
     "output_type": "stream",
     "text": [
      "Odd\n"
     ]
    }
   ],
   "source": [
    "even_odd(35)"
   ]
  },
  {
   "cell_type": "code",
   "execution_count": 126,
   "id": "b2da4616-335d-427d-bbaf-70e759dcef50",
   "metadata": {},
   "outputs": [],
   "source": [
    "# print vs return\n",
    "def hello_world():\n",
    "    print(\"Hello World\")\n",
    "    "
   ]
  },
  {
   "cell_type": "code",
   "execution_count": 127,
   "id": "0d78a266-5e4f-488a-a541-a418e806b422",
   "metadata": {},
   "outputs": [
    {
     "name": "stdout",
     "output_type": "stream",
     "text": [
      "Hello World\n"
     ]
    }
   ],
   "source": [
    "val=hello_world()\n"
   ]
  },
  {
   "cell_type": "code",
   "execution_count": 128,
   "id": "a1671973-310c-482c-a414-449af9d0ecc8",
   "metadata": {},
   "outputs": [
    {
     "name": "stdout",
     "output_type": "stream",
     "text": [
      "None\n"
     ]
    }
   ],
   "source": [
    "print(val)"
   ]
  },
  {
   "cell_type": "code",
   "execution_count": 129,
   "id": "17cc3a06-3d59-4844-9d27-5bb83bc2e671",
   "metadata": {},
   "outputs": [],
   "source": [
    "def hello_world1():\n",
    "    return \"Hello World\""
   ]
  },
  {
   "cell_type": "code",
   "execution_count": 130,
   "id": "4c11f1ea-3e8b-49ab-b87e-cd7222e4a14b",
   "metadata": {},
   "outputs": [],
   "source": [
    "val1=hello_world1()"
   ]
  },
  {
   "cell_type": "code",
   "execution_count": 131,
   "id": "d37f8547-4aa1-414a-8f9a-ab99f22bea1e",
   "metadata": {},
   "outputs": [
    {
     "name": "stdout",
     "output_type": "stream",
     "text": [
      "Hello World\n"
     ]
    }
   ],
   "source": [
    "print(val1)"
   ]
  },
  {
   "cell_type": "code",
   "execution_count": 132,
   "id": "fafa165e-760f-4393-acc4-97d361e366f5",
   "metadata": {},
   "outputs": [],
   "source": [
    "def hello(name,age):\n",
    "    return \"hi my name is {} and my age is {}\".format(name,age)"
   ]
  },
  {
   "cell_type": "code",
   "execution_count": 133,
   "id": "ee90c18d-0b10-41b5-8172-22b8ed953f4d",
   "metadata": {},
   "outputs": [
    {
     "data": {
      "text/plain": [
       "'hi my name is Naval and my age is 3'"
      ]
     },
     "execution_count": 133,
     "metadata": {},
     "output_type": "execute_result"
    }
   ],
   "source": [
    "hello('Naval',3)"
   ]
  },
  {
   "cell_type": "code",
   "execution_count": 145,
   "id": "e2a8b4b0-8b2f-4be0-8289-300a074f9a1c",
   "metadata": {},
   "outputs": [],
   "source": [
    "def namendage(name,age):\n",
    "    return \"heelo my name is {}, i am {} years old\".format(name,age)"
   ]
  },
  {
   "cell_type": "code",
   "execution_count": 149,
   "id": "8e5896a7-28b4-45df-9e4e-9420ea93f62e",
   "metadata": {},
   "outputs": [
    {
     "data": {
      "text/plain": [
       "'heelo my name is Sehgal, i am 21 years old'"
      ]
     },
     "execution_count": 149,
     "metadata": {},
     "output_type": "execute_result"
    }
   ],
   "source": [
    "namendage('Sehgal',21)"
   ]
  },
  {
   "cell_type": "code",
   "execution_count": 151,
   "id": "af2bb4c1-4103-4768-9a81-44404f95bd9f",
   "metadata": {},
   "outputs": [],
   "source": [
    "# Keyword argument and a positonal argument\n",
    "def hello(*args,**kwargs):\n",
    "    print(args)\n",
    "    print(kwargs)"
   ]
  },
  {
   "cell_type": "code",
   "execution_count": 155,
   "id": "c288c9cf-c1e2-4c48-b234-f35c49a461b3",
   "metadata": {},
   "outputs": [
    {
     "name": "stdout",
     "output_type": "stream",
     "text": [
      "('Krish',)\n",
      "{'age': 23}\n"
     ]
    }
   ],
   "source": [
    "hello('Krish',age=23)"
   ]
  },
  {
   "cell_type": "code",
   "execution_count": 161,
   "id": "e94a9732-cee2-4d69-a099-bf988025714c",
   "metadata": {},
   "outputs": [
    {
     "name": "stdout",
     "output_type": "stream",
     "text": [
      "('Krish', 'Naik')\n",
      "{'dob': 2002, 'age': 21}\n"
     ]
    }
   ],
   "source": [
    "hello('Krish','Naik',dob=2002,age=21)"
   ]
  },
  {
   "cell_type": "code",
   "execution_count": 171,
   "id": "5a3c3bd6-7f82-4a09-85a2-3c1eb25cd828",
   "metadata": {},
   "outputs": [],
   "source": [
    "list=['Raman','Chaman','Rakesh']\n",
    "dictionary={'del':21,'lenovo':'laptop'}"
   ]
  },
  {
   "cell_type": "code",
   "execution_count": 173,
   "id": "42dfe120-7981-40ab-948a-82192471c853",
   "metadata": {},
   "outputs": [
    {
     "name": "stdout",
     "output_type": "stream",
     "text": [
      "('Raman', 'Chaman', 'Rakesh')\n",
      "{'del': 21, 'lenovo': 'laptop'}\n"
     ]
    }
   ],
   "source": [
    "hello(*list,**dictionary)"
   ]
  },
  {
   "cell_type": "code",
   "execution_count": 175,
   "id": "4c10272d-5373-4223-9410-546a003b7ec0",
   "metadata": {},
   "outputs": [],
   "source": [
    "def evenoddsum(lst):\n",
    "    even_sum=0\n",
    "    odd_sum=0\n",
    "    for i in lst:\n",
    "        if i%2==0:\n",
    "            even_sum=even_sum+i\n",
    "        else:\n",
    "            odd_sum=odd_sum+i\n",
    "    return even_sum, odd_sum\n",
    "    "
   ]
  },
  {
   "cell_type": "code",
   "execution_count": 177,
   "id": "f4c60678-8999-4440-a5ca-c146dd6c2c3c",
   "metadata": {},
   "outputs": [],
   "source": [
    "lst=[1,2,3,4,5,6,7,8,9]"
   ]
  },
  {
   "cell_type": "code",
   "execution_count": 181,
   "id": "19308eb4-fbe1-438a-bcd8-bb5bafc88803",
   "metadata": {},
   "outputs": [
    {
     "data": {
      "text/plain": [
       "(20, 25)"
      ]
     },
     "execution_count": 181,
     "metadata": {},
     "output_type": "execute_result"
    }
   ],
   "source": [
    "evenoddsum(lst)"
   ]
  }
 ],
 "metadata": {
  "kernelspec": {
   "display_name": "Python 3 (ipykernel)",
   "language": "python",
   "name": "python3"
  },
  "language_info": {
   "codemirror_mode": {
    "name": "ipython",
    "version": 3
   },
   "file_extension": ".py",
   "mimetype": "text/x-python",
   "name": "python",
   "nbconvert_exporter": "python",
   "pygments_lexer": "ipython3",
   "version": "3.11.7"
  }
 },
 "nbformat": 4,
 "nbformat_minor": 5
}
