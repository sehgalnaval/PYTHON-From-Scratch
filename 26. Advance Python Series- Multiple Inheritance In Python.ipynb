{
 "cells": [
  {
   "cell_type": "markdown",
   "id": "4c66f834-ee0b-46f4-8bfd-3ed84995d4cb",
   "metadata": {},
   "source": [
    "### OOPS- Multiple Inheritance In Python"
   ]
  },
  {
   "cell_type": "code",
   "execution_count": 25,
   "id": "b06d98e2-1a58-4180-b069-6a3c40877f8f",
   "metadata": {},
   "outputs": [],
   "source": [
    "class A:\n",
    "    def method1(self):\n",
    "        print(\"A class method is called\")"
   ]
  },
  {
   "cell_type": "code",
   "execution_count": 26,
   "id": "5b782f15-76ec-4bea-a6fe-ca7a7473a907",
   "metadata": {},
   "outputs": [],
   "source": [
    "# Class B is inheriting from class A\n",
    "class B(A):\n",
    "    def method1(self):\n",
    "        print(\"B class method is called\")\n",
    "    def method2(self):\n",
    "        print(\"B class method2 is getting called\")"
   ]
  },
  {
   "cell_type": "code",
   "execution_count": 27,
   "id": "14c11158-6b8c-4a1b-bb59-2e34c2beed27",
   "metadata": {},
   "outputs": [],
   "source": [
    "class C(A):\n",
    "    def method1(self):\n",
    "        print(\"C class method is called\")"
   ]
  },
  {
   "cell_type": "code",
   "execution_count": 28,
   "id": "f859ce40-5aaa-4cdf-926b-03bd87ebece5",
   "metadata": {},
   "outputs": [],
   "source": [
    "# Multiple Inheritance\n",
    "# inheriting 2 base classes B and C\n",
    "class D(B,C):\n",
    "    def method1(self):\n",
    "        print(\"D class method is called\")"
   ]
  },
  {
   "cell_type": "code",
   "execution_count": 29,
   "id": "983e1f7f-d595-4f74-9d9e-eca59b4740eb",
   "metadata": {},
   "outputs": [],
   "source": [
    "d=D()"
   ]
  },
  {
   "cell_type": "code",
   "execution_count": 30,
   "id": "87332b5f-c417-4696-b75d-4f8c4507f2ee",
   "metadata": {},
   "outputs": [
    {
     "name": "stdout",
     "output_type": "stream",
     "text": [
      "D class method is called\n"
     ]
    }
   ],
   "source": [
    "d.method1()"
   ]
  },
  {
   "cell_type": "code",
   "execution_count": 38,
   "id": "716105d1-0a7f-4bb7-b586-4895a31e96e2",
   "metadata": {},
   "outputs": [
    {
     "name": "stdout",
     "output_type": "stream",
     "text": [
      "B class method2 is getting called\n"
     ]
    }
   ],
   "source": [
    "d.method2()"
   ]
  },
  {
   "cell_type": "code",
   "execution_count": 44,
   "id": "3ba93a12-d6e6-4f9d-8be5-6b51a1aa934c",
   "metadata": {},
   "outputs": [
    {
     "name": "stdout",
     "output_type": "stream",
     "text": [
      "B class method is called\n"
     ]
    }
   ],
   "source": [
    "# Calling method1 of class B specifically\n",
    "B.method1(d)"
   ]
  },
  {
   "cell_type": "code",
   "execution_count": 48,
   "id": "72455194-8af4-41df-abe3-56173986ed3a",
   "metadata": {},
   "outputs": [
    {
     "name": "stdout",
     "output_type": "stream",
     "text": [
      "A class method is called\n"
     ]
    }
   ],
   "source": [
    "A.method1(d)"
   ]
  },
  {
   "cell_type": "code",
   "execution_count": 50,
   "id": "8f4704eb-9992-4427-9535-9990c6fd56e8",
   "metadata": {},
   "outputs": [],
   "source": [
    "# Calling all other parent classes directly\n",
    "class D(B,C):\n",
    "    def method1(self):\n",
    "        print(\"D class method is called\")\n",
    "        C.method1(self)\n",
    "        B.method1(self)\n",
    "        A.method1(self)"
   ]
  },
  {
   "cell_type": "code",
   "execution_count": 52,
   "id": "df24d0ba-09f9-4857-aad5-4fa1a1594f09",
   "metadata": {},
   "outputs": [],
   "source": [
    "e=D()"
   ]
  },
  {
   "cell_type": "code",
   "execution_count": 60,
   "id": "9dbf896e-8409-4407-995c-94d336744496",
   "metadata": {},
   "outputs": [
    {
     "name": "stdout",
     "output_type": "stream",
     "text": [
      "D class method is called\n",
      "C class method is called\n",
      "B class method is called\n",
      "A class method is called\n"
     ]
    }
   ],
   "source": [
    "e.method1()"
   ]
  },
  {
   "cell_type": "code",
   "execution_count": 62,
   "id": "6257a75c-6b01-4c07-ad9c-ccd81d693102",
   "metadata": {},
   "outputs": [
    {
     "name": "stdout",
     "output_type": "stream",
     "text": [
      "B class method2 is getting called\n"
     ]
    }
   ],
   "source": [
    "e.method2()"
   ]
  }
 ],
 "metadata": {
  "kernelspec": {
   "display_name": "Python 3 (ipykernel)",
   "language": "python",
   "name": "python3"
  },
  "language_info": {
   "codemirror_mode": {
    "name": "ipython",
    "version": 3
   },
   "file_extension": ".py",
   "mimetype": "text/x-python",
   "name": "python",
   "nbconvert_exporter": "python",
   "pygments_lexer": "ipython3",
   "version": "3.11.7"
  }
 },
 "nbformat": 4,
 "nbformat_minor": 5
}
