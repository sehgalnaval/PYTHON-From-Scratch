{
 "cells": [
  {
   "cell_type": "markdown",
   "id": "109c2df3-5b23-48e7-b7e8-2ab0c7ef163d",
   "metadata": {},
   "source": [
    "# Lambda Functions\n",
    "or anonymous functions or Functions with No Name.\n",
    "THey work faster than the normal functions that we make!"
   ]
  },
  {
   "cell_type": "code",
   "execution_count": 2,
   "id": "d1a770ff-fec8-40fe-aefc-65288d975423",
   "metadata": {},
   "outputs": [],
   "source": [
    "# simple function\n",
    "def addition(a,b):\n",
    "    return a+b"
   ]
  },
  {
   "cell_type": "code",
   "execution_count": 3,
   "id": "da643087-bb1f-466e-b806-d199217a8094",
   "metadata": {},
   "outputs": [
    {
     "data": {
      "text/plain": [
       "9"
      ]
     },
     "execution_count": 3,
     "metadata": {},
     "output_type": "execute_result"
    }
   ],
   "source": [
    "addition(4,5)"
   ]
  },
  {
   "cell_type": "code",
   "execution_count": 4,
   "id": "e78b9845-30a2-4354-bda7-167478b1da93",
   "metadata": {},
   "outputs": [],
   "source": [
    "# Converting into lambda function with lambda keyword\n",
    "# Only for single expression functions, not for 3-4 line or more lines of code\n",
    "add=lambda a,b:a+b"
   ]
  },
  {
   "cell_type": "code",
   "execution_count": 5,
   "id": "70ceb57d-4337-4c91-94d9-ae83f88239ef",
   "metadata": {},
   "outputs": [
    {
     "data": {
      "text/plain": [
       "5"
      ]
     },
     "execution_count": 5,
     "metadata": {},
     "output_type": "execute_result"
    }
   ],
   "source": [
    "add(2,3)"
   ]
  },
  {
   "cell_type": "code",
   "execution_count": 6,
   "id": "d0ac2641-50e3-41e1-ae26-544a967ba622",
   "metadata": {},
   "outputs": [],
   "source": [
    "# simple function\n",
    "def even(i):\n",
    "    if i%2==0:\n",
    "        print(\"even\")"
   ]
  },
  {
   "cell_type": "code",
   "execution_count": 7,
   "id": "f428a2a7-59ec-406d-96e8-6ccbc448cbf9",
   "metadata": {},
   "outputs": [],
   "source": [
    "even=lambda i:i%2==0"
   ]
  },
  {
   "cell_type": "code",
   "execution_count": 8,
   "id": "d6db4dab-4f03-4686-aa09-c529e2840c0c",
   "metadata": {},
   "outputs": [
    {
     "data": {
      "text/plain": [
       "True"
      ]
     },
     "execution_count": 8,
     "metadata": {},
     "output_type": "execute_result"
    }
   ],
   "source": [
    "even(22)"
   ]
  },
  {
   "cell_type": "code",
   "execution_count": 9,
   "id": "a4eac86e-c774-4510-9eff-3ab683331754",
   "metadata": {},
   "outputs": [
    {
     "data": {
      "text/plain": [
       "False"
      ]
     },
     "execution_count": 9,
     "metadata": {},
     "output_type": "execute_result"
    }
   ],
   "source": [
    "even(11)"
   ]
  },
  {
   "cell_type": "code",
   "execution_count": 10,
   "id": "e1a641be-51f9-43fb-af6c-132f6a0b3a54",
   "metadata": {},
   "outputs": [],
   "source": [
    "calculate=lambda x,y,z:x+y*z"
   ]
  },
  {
   "cell_type": "code",
   "execution_count": 11,
   "id": "9fb528eb-0443-4841-9229-16100dc65c72",
   "metadata": {},
   "outputs": [
    {
     "data": {
      "text/plain": [
       "7"
      ]
     },
     "execution_count": 11,
     "metadata": {},
     "output_type": "execute_result"
    }
   ],
   "source": [
    "calculate(1,2,3)\n",
    "# 3*2+1=7(Bodmas)"
   ]
  },
  {
   "cell_type": "markdown",
   "id": "bab03e96-5b60-4aa9-b15c-d45dc035b9d7",
   "metadata": {},
   "source": [
    "# Map Functions"
   ]
  },
  {
   "cell_type": "code",
   "execution_count": 13,
   "id": "b8250e74-a4fa-4c8d-990f-ee2984139f93",
   "metadata": {},
   "outputs": [],
   "source": [
    "# simple function\n",
    "def even_or_odd(i):\n",
    "    if i%2==0:\n",
    "        print(\"even\")\n",
    "    else:\n",
    "        return \"{} is odd\".format(i)"
   ]
  },
  {
   "cell_type": "code",
   "execution_count": 14,
   "id": "4a13e126-0d4b-46b6-b2fe-4a08de908b00",
   "metadata": {},
   "outputs": [
    {
     "name": "stdout",
     "output_type": "stream",
     "text": [
      "even\n"
     ]
    }
   ],
   "source": [
    "even_or_odd(6)"
   ]
  },
  {
   "cell_type": "code",
   "execution_count": 15,
   "id": "78c8d9a2-dfb6-46c3-af3f-77055b6cb9ef",
   "metadata": {},
   "outputs": [
    {
     "data": {
      "text/plain": [
       "'9 is odd'"
      ]
     },
     "execution_count": 15,
     "metadata": {},
     "output_type": "execute_result"
    }
   ],
   "source": [
    "even_or_odd(9)"
   ]
  },
  {
   "cell_type": "code",
   "execution_count": 16,
   "id": "e00dfccb-3426-4227-95c8-031e88c1e1e7",
   "metadata": {},
   "outputs": [],
   "source": [
    "# Having list having many numbers\n",
    "l=[1,2,3,22,12,13,14,2,6,333,7,8]"
   ]
  },
  {
   "cell_type": "code",
   "execution_count": 17,
   "id": "d22920dc-7422-489d-8353-c12a41a2a9f3",
   "metadata": {},
   "outputs": [
    {
     "name": "stdout",
     "output_type": "stream",
     "text": [
      "even\n",
      "even\n",
      "even\n",
      "even\n",
      "even\n",
      "even\n",
      "even\n"
     ]
    }
   ],
   "source": [
    "# using map functions\n",
    "result=list(map(even_or_odd,l))"
   ]
  },
  {
   "cell_type": "code",
   "execution_count": 41,
   "id": "a8d1686e-63df-41fd-b7b3-28db6cbc29f7",
   "metadata": {},
   "outputs": [
    {
     "data": {
      "text/plain": [
       "['1 is odd',\n",
       " None,\n",
       " '3 is odd',\n",
       " None,\n",
       " None,\n",
       " '13 is odd',\n",
       " None,\n",
       " None,\n",
       " None,\n",
       " '333 is odd',\n",
       " '7 is odd',\n",
       " None]"
      ]
     },
     "execution_count": 41,
     "metadata": {},
     "output_type": "execute_result"
    }
   ],
   "source": [
    "result"
   ]
  },
  {
   "cell_type": "markdown",
   "id": "97b673e4-d553-43cc-992d-74b542277d44",
   "metadata": {},
   "source": [
    "# Filter Function"
   ]
  },
  {
   "cell_type": "code",
   "execution_count": 44,
   "id": "1e45b55b-4909-4d98-82bc-cfef4165eebc",
   "metadata": {},
   "outputs": [],
   "source": [
    "# simple function\n",
    "def even_or_odd(i):\n",
    "    if i%2==0:\n",
    "        print(\"even\")\n",
    "    else:\n",
    "        return \"{} is odd\".format(i)"
   ]
  },
  {
   "cell_type": "code",
   "execution_count": 46,
   "id": "badf0885-ffed-4c6d-aa6a-092ae2fef85e",
   "metadata": {},
   "outputs": [],
   "source": [
    "# Having list having many numbers\n",
    "l=[1,2,3,22,12,13,14,2,6,333,7,8]\n"
   ]
  },
  {
   "cell_type": "code",
   "execution_count": 50,
   "id": "30d7bc12-f9d5-45f4-b2e0-1c80ccf7a351",
   "metadata": {},
   "outputs": [
    {
     "name": "stdout",
     "output_type": "stream",
     "text": [
      "even\n",
      "even\n",
      "even\n",
      "even\n",
      "even\n",
      "even\n",
      "even\n"
     ]
    },
    {
     "data": {
      "text/plain": [
       "[1, 3, 13, 333, 7]"
      ]
     },
     "execution_count": 50,
     "metadata": {},
     "output_type": "execute_result"
    }
   ],
   "source": [
    "list(filter(even_or_odd,l))"
   ]
  },
  {
   "cell_type": "code",
   "execution_count": 54,
   "id": "d9769b1b-1271-429d-b84b-5afcadd3d5b4",
   "metadata": {},
   "outputs": [
    {
     "data": {
      "text/plain": [
       "[2, 22, 12, 14, 2, 6, 8]"
      ]
     },
     "execution_count": 54,
     "metadata": {},
     "output_type": "execute_result"
    }
   ],
   "source": [
    "# Using lambda functions and Filter functions together\n",
    "list(filter(lambda num:num%2==0,l))"
   ]
  },
  {
   "cell_type": "code",
   "execution_count": 56,
   "id": "484b8443-d572-42ba-95c2-08c10b03c11d",
   "metadata": {},
   "outputs": [
    {
     "data": {
      "text/plain": [
       "[False, True, False, True, True, False, True, True, True, False, False, True]"
      ]
     },
     "execution_count": 56,
     "metadata": {},
     "output_type": "execute_result"
    }
   ],
   "source": [
    "list(map(lambda num:num%2==0,l))"
   ]
  }
 ],
 "metadata": {
  "kernelspec": {
   "display_name": "Python 3 (ipykernel)",
   "language": "python",
   "name": "python3"
  },
  "language_info": {
   "codemirror_mode": {
    "name": "ipython",
    "version": 3
   },
   "file_extension": ".py",
   "mimetype": "text/x-python",
   "name": "python",
   "nbconvert_exporter": "python",
   "pygments_lexer": "ipython3",
   "version": "3.11.7"
  }
 },
 "nbformat": 4,
 "nbformat_minor": 5
}
