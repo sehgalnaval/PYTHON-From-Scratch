{
 "cells": [
  {
   "cell_type": "markdown",
   "id": "1dc3aa4d-cd8b-4b14-ba33-6d4ff71b4af8",
   "metadata": {},
   "source": [
    "#### NUMPY\n",
    "##### NumPy is a general-purpose array processing package. It provides high-performance multidimensional array object and tools for working whith these \n",
    "##### arrays. It is the fundamental package for scientific computing with Python."
   ]
  },
  {
   "cell_type": "markdown",
   "id": "1699eb23-270b-4b81-b8ca-a626d95db7fa",
   "metadata": {},
   "source": [
    "#### What is an Array?\n",
    "##### An array is a group of similar elements or data items of the same type collected at contiguous memory locations. In simple words, we can say that in\n",
    "##### computer programming, arrays are generally used to organize the same type of data."
   ]
  },
  {
   "cell_type": "code",
   "execution_count": 39,
   "id": "65e9ed80-1db8-4578-a6f7-5005273fe9df",
   "metadata": {},
   "outputs": [],
   "source": [
    "import numpy as np"
   ]
  },
  {
   "cell_type": "code",
   "execution_count": 40,
   "id": "8f316a7a-c7a6-41ae-8e8f-8052f22ef29a",
   "metadata": {},
   "outputs": [],
   "source": [
    "# For Pyhton users pip install numpy\n",
    "# for anaconda users conda install numpy"
   ]
  },
  {
   "cell_type": "code",
   "execution_count": 41,
   "id": "266dfcd0-f6e3-4c72-8c7a-fec088d9c74b",
   "metadata": {},
   "outputs": [],
   "source": [
    "my_list=[1,2,3,4,5]\n",
    "arr=np.array(my_list)"
   ]
  },
  {
   "cell_type": "code",
   "execution_count": 42,
   "id": "3a9776eb-ef45-4575-8110-9b7b9b3f7b07",
   "metadata": {},
   "outputs": [
    {
     "data": {
      "text/plain": [
       "numpy.ndarray"
      ]
     },
     "execution_count": 42,
     "metadata": {},
     "output_type": "execute_result"
    }
   ],
   "source": [
    "type(arr)"
   ]
  },
  {
   "cell_type": "code",
   "execution_count": 43,
   "id": "45186d8e-ebd9-43ba-af31-e647397d131a",
   "metadata": {},
   "outputs": [
    {
     "name": "stdout",
     "output_type": "stream",
     "text": [
      "[1 2 3 4 5]\n"
     ]
    }
   ],
   "source": [
    "print(arr)"
   ]
  },
  {
   "cell_type": "code",
   "execution_count": 44,
   "id": "91d25e7c-9622-437e-bb2d-6dd959e73059",
   "metadata": {},
   "outputs": [
    {
     "data": {
      "text/plain": [
       "(5,)"
      ]
     },
     "execution_count": 44,
     "metadata": {},
     "output_type": "execute_result"
    }
   ],
   "source": [
    "# to know dimension and know how many number of rows and columns are in an array\n",
    "arr.shape"
   ]
  },
  {
   "cell_type": "code",
   "execution_count": 62,
   "id": "86068524-fde6-4397-a61e-7827b71b9d42",
   "metadata": {},
   "outputs": [],
   "source": [
    "# Multinested array\n",
    "my_list1=[1,2,3,4,5]\n",
    "my_list2=[6,7,8,9,2]\n",
    "my_list3=[5,6,7,8,9]\n",
    "arr=np.array([my_list1,my_list2,my_list3])"
   ]
  },
  {
   "cell_type": "code",
   "execution_count": 64,
   "id": "d1357383-e495-461a-a636-27785ce8453f",
   "metadata": {},
   "outputs": [
    {
     "data": {
      "text/plain": [
       "array([[1, 2, 3, 4, 5],\n",
       "       [6, 7, 8, 9, 2],\n",
       "       [5, 6, 7, 8, 9]])"
      ]
     },
     "execution_count": 64,
     "metadata": {},
     "output_type": "execute_result"
    }
   ],
   "source": [
    "arr"
   ]
  },
  {
   "cell_type": "code",
   "execution_count": 66,
   "id": "76214179-dd83-474e-b0c9-2f67361d4c1f",
   "metadata": {},
   "outputs": [
    {
     "data": {
      "text/plain": [
       "(3, 5)"
      ]
     },
     "execution_count": 66,
     "metadata": {},
     "output_type": "execute_result"
    }
   ],
   "source": [
    "arr.shape"
   ]
  },
  {
   "cell_type": "code",
   "execution_count": 68,
   "id": "4d6d6fb0-e78a-4e09-be34-63a3fb4fe725",
   "metadata": {},
   "outputs": [
    {
     "data": {
      "text/plain": [
       "array([[1, 2, 3],\n",
       "       [4, 5, 6],\n",
       "       [7, 8, 9],\n",
       "       [2, 5, 6],\n",
       "       [7, 8, 9]])"
      ]
     },
     "execution_count": 68,
     "metadata": {},
     "output_type": "execute_result"
    }
   ],
   "source": [
    "arr.reshape(5,3)"
   ]
  },
  {
   "cell_type": "markdown",
   "id": "bffdd6cd-d71e-4cfd-b4c6-e08bd020b5df",
   "metadata": {},
   "source": [
    "### Indexing"
   ]
  },
  {
   "cell_type": "code",
   "execution_count": 71,
   "id": "d4a2d794-d267-41c8-b443-d2ddc904b9e7",
   "metadata": {},
   "outputs": [],
   "source": [
    "arr=np.array([1,2,3,4,5,6,7,8,9])"
   ]
  },
  {
   "cell_type": "code",
   "execution_count": 75,
   "id": "c2f57723-d8cd-4231-962e-43c39e0057ce",
   "metadata": {},
   "outputs": [
    {
     "data": {
      "text/plain": [
       "4"
      ]
     },
     "execution_count": 75,
     "metadata": {},
     "output_type": "execute_result"
    }
   ],
   "source": [
    "arr[3]"
   ]
  },
  {
   "cell_type": "code",
   "execution_count": 77,
   "id": "8a720942-f943-4d71-babe-245e7f456fb3",
   "metadata": {},
   "outputs": [
    {
     "data": {
      "text/plain": [
       "array([1, 2, 3, 4, 5, 6, 7, 8, 9])"
      ]
     },
     "execution_count": 77,
     "metadata": {},
     "output_type": "execute_result"
    }
   ],
   "source": [
    "arr"
   ]
  },
  {
   "cell_type": "code",
   "execution_count": 79,
   "id": "07842862-21bb-4576-9fdb-7b42778b34b9",
   "metadata": {},
   "outputs": [
    {
     "data": {
      "text/plain": [
       "array([[1, 2, 3, 4, 5],\n",
       "       [6, 7, 8, 9, 2],\n",
       "       [5, 6, 7, 8, 9]])"
      ]
     },
     "execution_count": 79,
     "metadata": {},
     "output_type": "execute_result"
    }
   ],
   "source": [
    "my_list1=[1,2,3,4,5]\n",
    "my_list2=[6,7,8,9,2]\n",
    "my_list3=[5,6,7,8,9]\n",
    "arr=np.array([my_list1,my_list2,my_list3])\n",
    "arr"
   ]
  },
  {
   "cell_type": "code",
   "execution_count": 81,
   "id": "bdd58ff9-54eb-47d2-a09d-b2f5740041b6",
   "metadata": {},
   "outputs": [
    {
     "data": {
      "text/plain": [
       "array([[1, 2, 3, 4, 5],\n",
       "       [6, 7, 8, 9, 2],\n",
       "       [5, 6, 7, 8, 9]])"
      ]
     },
     "execution_count": 81,
     "metadata": {},
     "output_type": "execute_result"
    }
   ],
   "source": [
    "arr[:,:]"
   ]
  },
  {
   "cell_type": "code",
   "execution_count": 85,
   "id": "dcf3b775-24b9-4f5d-8ec4-9df4c6487b13",
   "metadata": {},
   "outputs": [
    {
     "data": {
      "text/plain": [
       "array([[1, 2],\n",
       "       [6, 7]])"
      ]
     },
     "execution_count": 85,
     "metadata": {},
     "output_type": "execute_result"
    }
   ],
   "source": [
    "arr[0:2,0:2]"
   ]
  },
  {
   "cell_type": "code",
   "execution_count": 87,
   "id": "3e6b7fd6-ba7d-46b8-963d-b9d58f2c5a86",
   "metadata": {},
   "outputs": [
    {
     "data": {
      "text/plain": [
       "array([[9, 2],\n",
       "       [8, 9]])"
      ]
     },
     "execution_count": 87,
     "metadata": {},
     "output_type": "execute_result"
    }
   ],
   "source": [
    "arr[1:,3:]"
   ]
  },
  {
   "cell_type": "code",
   "execution_count": 89,
   "id": "8a78676c-618d-401a-874f-49ececcdcfa7",
   "metadata": {},
   "outputs": [],
   "source": [
    "arr=np.array([1,2,3,4,5,6,7,8,9])"
   ]
  },
  {
   "cell_type": "code",
   "execution_count": 91,
   "id": "c7fa7381-22fa-416e-a3b3-09db6c153322",
   "metadata": {},
   "outputs": [
    {
     "data": {
      "text/plain": [
       "array([1, 2, 3, 4, 5, 6, 7, 8, 9])"
      ]
     },
     "execution_count": 91,
     "metadata": {},
     "output_type": "execute_result"
    }
   ],
   "source": [
    "arr"
   ]
  },
  {
   "cell_type": "code",
   "execution_count": 97,
   "id": "e96d8f1b-ed58-47ef-93e6-de1fa26c40d0",
   "metadata": {},
   "outputs": [],
   "source": [
    "# Inbuilt function\n",
    "# arange = start,stop,step\n",
    "arr=np.arange(0,9,2)"
   ]
  },
  {
   "cell_type": "code",
   "execution_count": 95,
   "id": "fe4fb2f3-925e-4ddc-ae3d-0271e097d238",
   "metadata": {},
   "outputs": [
    {
     "data": {
      "text/plain": [
       "array([0, 2, 4, 6, 8])"
      ]
     },
     "execution_count": 95,
     "metadata": {},
     "output_type": "execute_result"
    }
   ],
   "source": [
    "arr"
   ]
  },
  {
   "cell_type": "code",
   "execution_count": 103,
   "id": "40b4c1db-571a-45ef-9e4d-29b095ca0da6",
   "metadata": {},
   "outputs": [
    {
     "data": {
      "text/plain": [
       "array([ 1.  ,  3.25,  5.5 ,  7.75, 10.  ])"
      ]
     },
     "execution_count": 103,
     "metadata": {},
     "output_type": "execute_result"
    }
   ],
   "source": [
    "# Returns `num` evenly spaced samples, calculated over the interval [`start`, `stop`].The endpoint of the interval can optionally be excluded.\n",
    "np.linspace(1,10,5)"
   ]
  },
  {
   "cell_type": "code",
   "execution_count": 105,
   "id": "670affd7-1e30-49f9-ab5d-24db320caa4c",
   "metadata": {},
   "outputs": [
    {
     "data": {
      "text/plain": [
       "array([ 1.        ,  1.18367347,  1.36734694,  1.55102041,  1.73469388,\n",
       "        1.91836735,  2.10204082,  2.28571429,  2.46938776,  2.65306122,\n",
       "        2.83673469,  3.02040816,  3.20408163,  3.3877551 ,  3.57142857,\n",
       "        3.75510204,  3.93877551,  4.12244898,  4.30612245,  4.48979592,\n",
       "        4.67346939,  4.85714286,  5.04081633,  5.2244898 ,  5.40816327,\n",
       "        5.59183673,  5.7755102 ,  5.95918367,  6.14285714,  6.32653061,\n",
       "        6.51020408,  6.69387755,  6.87755102,  7.06122449,  7.24489796,\n",
       "        7.42857143,  7.6122449 ,  7.79591837,  7.97959184,  8.16326531,\n",
       "        8.34693878,  8.53061224,  8.71428571,  8.89795918,  9.08163265,\n",
       "        9.26530612,  9.44897959,  9.63265306,  9.81632653, 10.        ])"
      ]
     },
     "execution_count": 105,
     "metadata": {},
     "output_type": "execute_result"
    }
   ],
   "source": [
    "np.linspace(1,10,50)"
   ]
  },
  {
   "cell_type": "code",
   "execution_count": 111,
   "id": "ee9e1c12-7cc4-4927-bdec-4c0b187bc799",
   "metadata": {},
   "outputs": [],
   "source": [
    "arr=np.array([1,2,3,4,5,6,7,8,9])"
   ]
  },
  {
   "cell_type": "code",
   "execution_count": 109,
   "id": "ab6cb39f-08a5-468d-b7e4-856311a9295a",
   "metadata": {
    "scrolled": true
   },
   "outputs": [
    {
     "data": {
      "text/plain": [
       "array([1, 2, 3, 4, 5, 6, 7, 8, 9])"
      ]
     },
     "execution_count": 109,
     "metadata": {},
     "output_type": "execute_result"
    }
   ],
   "source": [
    "arr"
   ]
  },
  {
   "cell_type": "code",
   "execution_count": 121,
   "id": "ef95b695-f1b3-4de6-b8d8-b2a7afe73791",
   "metadata": {},
   "outputs": [],
   "source": [
    "# Copy Function and Broadcatsing\n",
    "arr[3:]=100"
   ]
  },
  {
   "cell_type": "code",
   "execution_count": 119,
   "id": "1eaf08b6-3741-4852-987c-1efa3df0cae1",
   "metadata": {},
   "outputs": [
    {
     "data": {
      "text/plain": [
       "array([  1,   2,   3, 100, 100, 100, 100, 100, 100])"
      ]
     },
     "execution_count": 119,
     "metadata": {},
     "output_type": "execute_result"
    }
   ],
   "source": [
    "arr"
   ]
  },
  {
   "cell_type": "code",
   "execution_count": 123,
   "id": "d0ca0661-18df-4756-806d-8eaaaed1078b",
   "metadata": {},
   "outputs": [],
   "source": [
    "arr1=arr"
   ]
  },
  {
   "cell_type": "code",
   "execution_count": 125,
   "id": "52e015de-4169-4c63-8f82-634ae0effebd",
   "metadata": {},
   "outputs": [],
   "source": [
    "arr1[3:]=500"
   ]
  },
  {
   "cell_type": "code",
   "execution_count": 127,
   "id": "6a7c0d31-6ab5-4339-bfa8-e43570ecb204",
   "metadata": {},
   "outputs": [
    {
     "data": {
      "text/plain": [
       "array([  1,   2,   3, 500, 500, 500, 500, 500, 500])"
      ]
     },
     "execution_count": 127,
     "metadata": {},
     "output_type": "execute_result"
    }
   ],
   "source": [
    "arr1"
   ]
  },
  {
   "cell_type": "code",
   "execution_count": 133,
   "id": "e02682d1-0013-4f8c-b255-2197e0dbecd8",
   "metadata": {},
   "outputs": [
    {
     "data": {
      "text/plain": [
       "array([  1,   2,   3, 500, 500, 500, 500, 500, 500])"
      ]
     },
     "execution_count": 133,
     "metadata": {},
     "output_type": "execute_result"
    }
   ],
   "source": [
    "# It also updates the previoud array that is arr\n",
    "# arr1 also changed and arr also, also known as referencing\n",
    "arr"
   ]
  },
  {
   "cell_type": "code",
   "execution_count": 141,
   "id": "cca8b430-0f70-49d0-9ce5-b83923748b6b",
   "metadata": {},
   "outputs": [],
   "source": [
    "# Using copy function to create new memory location for arr2\n",
    "arr1=arr.copy()"
   ]
  },
  {
   "cell_type": "code",
   "execution_count": 137,
   "id": "ae2ef885-12a0-4c48-82b6-3fa5d5c1c2fc",
   "metadata": {},
   "outputs": [
    {
     "name": "stdout",
     "output_type": "stream",
     "text": [
      "[  1   2   3 500 500 500 500 500 500]\n",
      "[   1    2    3 1000 1000 1000 1000 1000 1000]\n"
     ]
    }
   ],
   "source": [
    "print(arr)\n",
    "arr1[3:]=1000\n",
    "print(arr1)"
   ]
  },
  {
   "cell_type": "code",
   "execution_count": 139,
   "id": "4e6eb522-ce10-4c74-a95c-082191fc61f8",
   "metadata": {},
   "outputs": [
    {
     "data": {
      "text/plain": [
       "array([  1,   2,   3, 500, 500, 500, 500, 500, 500])"
      ]
     },
     "execution_count": 139,
     "metadata": {},
     "output_type": "execute_result"
    }
   ],
   "source": [
    "arr"
   ]
  },
  {
   "cell_type": "code",
   "execution_count": 151,
   "id": "eb5982d8-281e-4d46-88df-f983e2cce807",
   "metadata": {},
   "outputs": [
    {
     "data": {
      "text/plain": [
       "array([ True, False, False, False, False, False, False, False, False])"
      ]
     },
     "execution_count": 151,
     "metadata": {},
     "output_type": "execute_result"
    }
   ],
   "source": [
    "# Useful conditions is EDA (Exploratory Data Analysis)\n",
    "val=2\n",
    "arr<2"
   ]
  },
  {
   "cell_type": "code",
   "execution_count": 155,
   "id": "644ec052-a108-4f2d-8710-cc4460182318",
   "metadata": {},
   "outputs": [
    {
     "data": {
      "text/plain": [
       "array([   2,    4,    6, 1000, 1000, 1000, 1000, 1000, 1000])"
      ]
     },
     "execution_count": 155,
     "metadata": {},
     "output_type": "execute_result"
    }
   ],
   "source": [
    "arr*2"
   ]
  },
  {
   "cell_type": "code",
   "execution_count": 159,
   "id": "8bd1cdb3-29cb-4f66-8ca8-34fa9dc144ea",
   "metadata": {},
   "outputs": [
    {
     "data": {
      "text/plain": [
       "array([  0.5,   1. ,   1.5, 250. , 250. , 250. , 250. , 250. , 250. ])"
      ]
     },
     "execution_count": 159,
     "metadata": {},
     "output_type": "execute_result"
    }
   ],
   "source": [
    "arr/2"
   ]
  },
  {
   "cell_type": "code",
   "execution_count": 161,
   "id": "1ac29c50-63f1-401e-a734-a1e99ec22ac4",
   "metadata": {},
   "outputs": [
    {
     "data": {
      "text/plain": [
       "array([1, 0, 1, 0, 0, 0, 0, 0, 0], dtype=int32)"
      ]
     },
     "execution_count": 161,
     "metadata": {},
     "output_type": "execute_result"
    }
   ],
   "source": [
    "arr%2"
   ]
  },
  {
   "cell_type": "code",
   "execution_count": 163,
   "id": "ec7608fd-93c9-4e9b-924d-e87611b44328",
   "metadata": {},
   "outputs": [
    {
     "data": {
      "text/plain": [
       "array([1])"
      ]
     },
     "execution_count": 163,
     "metadata": {},
     "output_type": "execute_result"
    }
   ],
   "source": [
    "arr[arr<2]"
   ]
  },
  {
   "cell_type": "code",
   "execution_count": 165,
   "id": "de187fbb-b44b-4a0d-9d41-0e4cfc658771",
   "metadata": {},
   "outputs": [
    {
     "data": {
      "text/plain": [
       "array([1, 2, 3])"
      ]
     },
     "execution_count": 165,
     "metadata": {},
     "output_type": "execute_result"
    }
   ],
   "source": [
    "arr[arr<300]"
   ]
  },
  {
   "cell_type": "code",
   "execution_count": 171,
   "id": "a6d1e003-d88b-4e4b-b068-4782aa6ce4df",
   "metadata": {},
   "outputs": [],
   "source": [
    "a=np.arange(2,10)"
   ]
  },
  {
   "cell_type": "code",
   "execution_count": 173,
   "id": "089a464d-a30e-4955-952c-df9aac821b40",
   "metadata": {},
   "outputs": [
    {
     "data": {
      "text/plain": [
       "array([2, 3, 4, 5, 6, 7, 8, 9])"
      ]
     },
     "execution_count": 173,
     "metadata": {},
     "output_type": "execute_result"
    }
   ],
   "source": [
    "a"
   ]
  },
  {
   "cell_type": "code",
   "execution_count": 175,
   "id": "25b5f64c-7328-429b-9681-a29da9aae31b",
   "metadata": {},
   "outputs": [
    {
     "data": {
      "text/plain": [
       "array([[2, 3],\n",
       "       [4, 5],\n",
       "       [6, 7],\n",
       "       [8, 9]])"
      ]
     },
     "execution_count": 175,
     "metadata": {},
     "output_type": "execute_result"
    }
   ],
   "source": [
    "a.reshape(4,2)"
   ]
  },
  {
   "cell_type": "code",
   "execution_count": 181,
   "id": "b7cbbd77-0336-4dfa-8023-6bad325d6b51",
   "metadata": {},
   "outputs": [
    {
     "data": {
      "text/plain": [
       "array([1, 1, 1, 1])"
      ]
     },
     "execution_count": 181,
     "metadata": {},
     "output_type": "execute_result"
    }
   ],
   "source": [
    "# All ones\n",
    "np.ones(4,dtype=int)"
   ]
  },
  {
   "cell_type": "code",
   "execution_count": 185,
   "id": "2d480f9b-2858-4350-bf08-416baa17c537",
   "metadata": {},
   "outputs": [
    {
     "data": {
      "text/plain": [
       "array([[1., 1.],\n",
       "       [1., 1.],\n",
       "       [1., 1.],\n",
       "       [1., 1.],\n",
       "       [1., 1.]])"
      ]
     },
     "execution_count": 185,
     "metadata": {},
     "output_type": "execute_result"
    }
   ],
   "source": [
    "np.ones((5,2),dtype=float)\n",
    "# by default dtype=float"
   ]
  },
  {
   "cell_type": "code",
   "execution_count": 197,
   "id": "ab24e2df-22e9-42ca-ae08-29b2d28485ec",
   "metadata": {
    "scrolled": true
   },
   "outputs": [
    {
     "data": {
      "text/plain": [
       "array([[[0.81096954, 0.0190929 , 0.01190013, 0.70331472, 0.42114732],\n",
       "        [0.77071325, 0.64562209, 0.31551373, 0.80085831, 0.86471845],\n",
       "        [0.82094716, 0.64062038, 0.16949946, 0.30873927, 0.14274805],\n",
       "        [0.725182  , 0.69852506, 0.16560882, 0.72331239, 0.13340979],\n",
       "        [0.16220396, 0.7500492 , 0.1887792 , 0.45780201, 0.68553918]],\n",
       "\n",
       "       [[0.75132304, 0.26660181, 0.56294299, 0.81641544, 0.11112638],\n",
       "        [0.05077528, 0.17394912, 0.23486442, 0.84220033, 0.75688924],\n",
       "        [0.14987467, 0.22340547, 0.26803338, 0.48145467, 0.19943695],\n",
       "        [0.56881285, 0.17974862, 0.67200163, 0.38279615, 0.57780143],\n",
       "        [0.11917734, 0.42383425, 0.96835229, 0.11564045, 0.61942943]]])"
      ]
     },
     "execution_count": 197,
     "metadata": {},
     "output_type": "execute_result"
    }
   ],
   "source": [
    "# Random distribution Create an array of the given shape and populate it with random samples from a uniform distribution\n",
    "# over ``[0, 1)``.\n",
    "np.random.rand(2,5,5)"
   ]
  },
  {
   "cell_type": "raw",
   "id": "c2609e49-c1e9-48eb-98c1-e671237df6d3",
   "metadata": {},
   "source": [
"For np.rand.randn:\n",
    "Mean of 0: The values generated are centered around 0. This means that if you generate a large number of values, the average of those values will be close to 0.\n",
    "\n",
    "Standard Deviation of 1: The values will be spread out in such a way that about 68% of them will fall within one standard deviation (between -1 and 1) from the mean, about 95% will fall within two standard deviations (between -2 and 2), and about 99.7% will fall within three standard deviations (between -3 and 3)."
   ]
  },
  {
   "cell_type": "code",
   "execution_count": 207,
   "id": "02427b09-f73b-4a84-b55e-3d7af4c6f749",
   "metadata": {},
   "outputs": [
    {
     "data": {
      "text/plain": [
       "array([[ 0.25932665, -1.14720285,  0.39446606, -0.04287171, -1.57653016],\n",
       "       [ 1.38583769, -1.72446224,  1.62007023,  0.64099812,  1.24637155]])"
      ]
     },
     "execution_count": 207,
     "metadata": {},
     "output_type": "execute_result"
    }
   ],
   "source": [
    "arr_ex=np.random.randn(2,5)\n",
    "# Standard normal distribution (mean of 0 and standard deviation of 1)\n",
    "# np.random.randn is a function in NumPy's random module that generates random numbers from the standard normal distribution.\n",
    "# The arguments (2, 5) specify the shape of the array to be generated.\n",
    "# The first dimension has a size of 2.\n",
    "# The second dimension has a size of 5.\n",
    "# So, this will create a 2D array with the shape (2, 5), meaning it will have 2 rows and 5 columns, \n",
    "# with each element being a random number from the standard normal distribution.\n",
    "arr_ex"
   ]
  },
  {
   "cell_type": "code",
   "execution_count": 215,
   "id": "d7f5f077-c86b-405b-be43-c2f3f1b59f14",
   "metadata": {},
   "outputs": [],
   "source": [
    "import seaborn as sns\n",
    "import pandas as pd"
   ]
  },
  {
   "cell_type": "code",
   "execution_count": 219,
   "id": "6ffcfc19-b449-454e-89e0-92df77baf3a8",
   "metadata": {},
   "outputs": [
    {
     "name": "stderr",
     "output_type": "stream",
     "text": [
      "C:\\Users\\NavalSehgal\\AppData\\Local\\Temp\\ipykernel_22700\\4187578069.py:1: UserWarning: \n",
      "\n",
      "`distplot` is a deprecated function and will be removed in seaborn v0.14.0.\n",
      "\n",
      "Please adapt your code to use either `displot` (a figure-level function with\n",
      "similar flexibility) or `histplot` (an axes-level function for histograms).\n",
      "\n",
      "For a guide to updating your code to use the new functions, please see\n",
      "https://gist.github.com/mwaskom/de44147ed2974457ad6372750bbe5751\n",
      "\n",
      "  sns.distplot(pd.DataFrame(arr_ex.reshape(10,1)))\n",
      "C:\\Users\\NavalSehgal\\anaconda3\\Lib\\site-packages\\seaborn\\_oldcore.py:1119: FutureWarning: use_inf_as_na option is deprecated and will be removed in a future version. Convert inf values to NaN before operating instead.\n",
      "  with pd.option_context('mode.use_inf_as_na', True):\n"
     ]
    },
    {
     "data": {
      "text/plain": [
       "<Axes: ylabel='Density'>"
      ]
     },
     "execution_count": 219,
     "metadata": {},
     "output_type": "execute_result"
    },
    {
     "data": {
      "image/png": "[encoded data removed]",
      "text/plain": [
       "<Figure size 640x480 with 1 Axes>"
      ]
     },
     "metadata": {},
     "output_type": "display_data"
    }
   ],
   "source": [
    "sns.distplot(pd.DataFrame(arr_ex.reshape(10,1)))"
   ]
  },
  {
   "cell_type": "code",
   "execution_count": 227,
   "id": "181bc8c7-e72e-4b43-9eb4-e3d94fb341e3",
   "metadata": {},
   "outputs": [
    {
     "data": {
      "text/plain": [
       "array([[96, 19],\n",
       "       [33, 21],\n",
       "       [69, 58],\n",
       "       [40, 95]])"
      ]
     },
     "execution_count": 227,
     "metadata": {},
     "output_type": "execute_result"
    }
   ],
   "source": [
    "np.random.randint(0,100,8).reshape(4,2)"
   ]
  },
  {
   "cell_type": "code",
   "execution_count": 229,
   "id": "6ec6d7e4-7ee7-4ba7-aae0-c14e1bda2c4e",
   "metadata": {},
   "outputs": [
    {
     "data": {
      "text/plain": [
       "array([[0.5050968 , 0.86058271, 0.86896275, 0.71133519, 0.45562731]])"
      ]
     },
     "execution_count": 229,
     "metadata": {},
     "output_type": "execute_result"
    }
   ],
   "source": [
    "np.random.random_sample((1,5))"
   ]
  }
 ],
 "metadata": {
  "kernelspec": {
   "display_name": "Python 3 (ipykernel)",
   "language": "python",
   "name": "python3"
  },
  "language_info": {
   "codemirror_mode": {
    "name": "ipython",
    "version": 3
   },
   "file_extension": ".py",
   "mimetype": "text/x-python",
   "name": "python",
   "nbconvert_exporter": "python",
   "pygments_lexer": "ipython3",
   "version": "3.11.7"
  }
 },
 "nbformat": 4,
 "nbformat_minor": 5
}
