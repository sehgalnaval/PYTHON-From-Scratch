{
 "cells": [
  {
   "cell_type": "markdown",
   "id": "9f06b90d-5f1e-494a-baa3-0ae382412bf2",
   "metadata": {},
   "source": [
    "### SET: It is an unordered collection datatype that is iterable, mutable and has no duplicates. Pyhton's set class represents the mathematical notion of a set."
   ]
  },
  {
   "cell_type": "code",
   "execution_count": 3,
   "id": "8ba0931b-7198-47c2-81fd-9b529f908937",
   "metadata": {},
   "outputs": [],
   "source": [
    "set_var={1,2,3,4,3}"
   ]
  },
  {
   "cell_type": "code",
   "execution_count": 5,
   "id": "928fe401-1205-415b-a7cf-2d8da5a0c6d9",
   "metadata": {},
   "outputs": [
    {
     "data": {
      "text/plain": [
       "{1, 2, 3, 4}"
      ]
     },
     "execution_count": 5,
     "metadata": {},
     "output_type": "execute_result"
    }
   ],
   "source": [
    "set_var"
   ]
  },
  {
   "cell_type": "code",
   "execution_count": 11,
   "id": "0a6b7615-247e-4cca-b257-540bf5857b4a",
   "metadata": {},
   "outputs": [],
   "source": [
    "# Inbuilt Functions\n",
    "set_var.add('heloo')"
   ]
  },
  {
   "cell_type": "raw",
   "id": "2891a5a1-3fc9-4a37-986d-c1d961cd0632",
   "metadata": {},
   "source": [
    "# INDEXING\n",
    "SETS DO NOT SUPPORT INDEXING"
   ]
  },
  {
   "cell_type": "code",
   "execution_count": 9,
   "id": "0ffc1ea0-78bb-4948-8566-70e1669a5c7c",
   "metadata": {},
   "outputs": [
    {
     "data": {
      "text/plain": [
       "{1, 2, 3, 4, 'heloo'}"
      ]
     },
     "execution_count": 9,
     "metadata": {},
     "output_type": "execute_result"
    }
   ],
   "source": [
    "set_var"
   ]
  },
  {
   "cell_type": "code",
   "execution_count": 22,
   "id": "534c03e6-70c8-4fe1-9560-214d30815e88",
   "metadata": {},
   "outputs": [
    {
     "data": {
      "text/plain": [
       "{5}"
      ]
     },
     "execution_count": 22,
     "metadata": {},
     "output_type": "execute_result"
    }
   ],
   "source": [
    "# Difference n=between sets: Remaining all the common elements will get removed, only uncommon will be displayed.\n",
    "set1={1,2,3,4}\n",
    "set2={1,3,4,5}\n",
    "set2.difference(set1)"
   ]
  },
  {
   "cell_type": "code",
   "execution_count": 24,
   "id": "e9d4a4e4-d0f4-4fe9-9806-895be26a3e0b",
   "metadata": {},
   "outputs": [
    {
     "data": {
      "text/plain": [
       "{1, 3, 4}"
      ]
     },
     "execution_count": 24,
     "metadata": {},
     "output_type": "execute_result"
    }
   ],
   "source": [
    "set2.intersection(set1)"
   ]
  },
  {
   "cell_type": "code",
   "execution_count": 17,
   "id": "7481a764-0d0d-4bef-8718-f0a0032f7bd4",
   "metadata": {},
   "outputs": [],
   "source": [
    "# To update it in my set2\n",
    "set2.difference_update(set1)"
   ]
  },
  {
   "cell_type": "code",
   "execution_count": 19,
   "id": "21ae3c71-71fc-48a6-86c8-15f37851b653",
   "metadata": {},
   "outputs": [
    {
     "data": {
      "text/plain": [
       "{5}"
      ]
     },
     "execution_count": 19,
     "metadata": {},
     "output_type": "execute_result"
    }
   ],
   "source": [
    "set2"
   ]
  },
  {
   "cell_type": "markdown",
   "id": "a388266b-786c-4634-b334-3168bfaecab9",
   "metadata": {},
   "source": [
    "#### Dictionaries\n",
    "##### A dictionary is a collection which is unordered, changeable and 'indexed'. In Python, dictionaries are written with curly brackets, and they have key and values."
   ]
  },
  {
   "cell_type": "code",
   "execution_count": 27,
   "id": "f8929110-4a91-4ffd-bd80-85218dc20572",
   "metadata": {},
   "outputs": [],
   "source": [
    "dic={}"
   ]
  },
  {
   "cell_type": "code",
   "execution_count": 49,
   "id": "0221cd0d-67a8-4404-8410-4531a87a828f",
   "metadata": {},
   "outputs": [],
   "source": [
    "# Creating a dictionary\n",
    "dic={1:\"Audi\",2:\"BMW\",\"3\":\"Merceds\",\"4\":\"TATA\"}"
   ]
  },
  {
   "cell_type": "code",
   "execution_count": 39,
   "id": "c447805d-0e2b-4703-a3d7-cb30a8704e0e",
   "metadata": {},
   "outputs": [
    {
     "data": {
      "text/plain": [
       "{1: 'Audi', 2: 'BMW', '3': 'Merceds', '4': 'TATA'}"
      ]
     },
     "execution_count": 39,
     "metadata": {},
     "output_type": "execute_result"
    }
   ],
   "source": [
    "dic"
   ]
  },
  {
   "cell_type": "code",
   "execution_count": 41,
   "id": "cec9371d-8205-44ec-a2bd-b69aec2b995f",
   "metadata": {},
   "outputs": [
    {
     "data": {
      "text/plain": [
       "'Audi'"
      ]
     },
     "execution_count": 41,
     "metadata": {},
     "output_type": "execute_result"
    }
   ],
   "source": [
    "dic[1]"
   ]
  },
  {
   "cell_type": "code",
   "execution_count": 43,
   "id": "81901c24-615d-4f3e-b467-4ba646f0492c",
   "metadata": {},
   "outputs": [
    {
     "data": {
      "text/plain": [
       "'Merceds'"
      ]
     },
     "execution_count": 43,
     "metadata": {},
     "output_type": "execute_result"
    }
   ],
   "source": [
    "dic['3']"
   ]
  },
  {
   "cell_type": "code",
   "execution_count": 53,
   "id": "172d3a87-e50e-475e-9228-4b46d0c1270e",
   "metadata": {},
   "outputs": [
    {
     "name": "stdout",
     "output_type": "stream",
     "text": [
      "1\n",
      "2\n",
      "3\n",
      "4\n"
     ]
    }
   ],
   "source": [
    "# Looping through dictionary keys\n",
    "for i in dic:\n",
    "    print(i)"
   ]
  },
  {
   "cell_type": "code",
   "execution_count": 57,
   "id": "0bce78f2-9afa-4c23-9d24-f4c76e7c98a4",
   "metadata": {},
   "outputs": [
    {
     "name": "stdout",
     "output_type": "stream",
     "text": [
      "Audi\n",
      "BMW\n",
      "Merceds\n",
      "TATA\n"
     ]
    }
   ],
   "source": [
    "# values\n",
    "for i in dic.values():\n",
    "    print(i)\n",
    "\n"
   ]
  },
  {
   "cell_type": "code",
   "execution_count": 59,
   "id": "bc3a982e-37f8-4276-bd48-8738aeb9991d",
   "metadata": {},
   "outputs": [
    {
     "name": "stdout",
     "output_type": "stream",
     "text": [
      "(1, 'Audi')\n",
      "(2, 'BMW')\n",
      "('3', 'Merceds')\n",
      "('4', 'TATA')\n"
     ]
    }
   ],
   "source": [
    "# both key and values i.e items\n",
    "for i in dic.items():\n",
    "    print(i)"
   ]
  },
  {
   "cell_type": "code",
   "execution_count": 71,
   "id": "4cce214c-508f-4f85-9bc7-c4e4ee705718",
   "metadata": {},
   "outputs": [],
   "source": [
    "# Addition\n",
    "dic[5]='Mahindra'"
   ]
  },
  {
   "cell_type": "code",
   "execution_count": 65,
   "id": "7b10dd7a-7156-40b4-acfa-39c463552d7b",
   "metadata": {},
   "outputs": [
    {
     "data": {
      "text/plain": [
       "{1: 'Audi', 2: 'BMW', '3': 'Merceds', '4': 'TATA', 5: 'Mahindra'}"
      ]
     },
     "execution_count": 65,
     "metadata": {},
     "output_type": "execute_result"
    }
   ],
   "source": [
    "dic"
   ]
  },
  {
   "cell_type": "code",
   "execution_count": 73,
   "id": "40c23465-e348-4b46-a8cb-44798d754bd6",
   "metadata": {},
   "outputs": [],
   "source": [
    "# Updation\n",
    "dic[1]='Lambo'"
   ]
  },
  {
   "cell_type": "code",
   "execution_count": 75,
   "id": "4ed2f58e-95c0-4cef-84bc-a0798beba498",
   "metadata": {},
   "outputs": [
    {
     "data": {
      "text/plain": [
       "{1: 'Lambo', 2: 'BMW', '3': 'Merceds', '4': 'TATA', 5: 'Mahindra'}"
      ]
     },
     "execution_count": 75,
     "metadata": {},
     "output_type": "execute_result"
    }
   ],
   "source": [
    "dic"
   ]
  },
  {
   "cell_type": "markdown",
   "id": "dee525cf-df97-4d22-9256-091fdb4bda35",
   "metadata": {},
   "source": [
    "#### NESTED DICTIONARY"
   ]
  },
  {
   "cell_type": "code",
   "execution_count": 78,
   "id": "90597ca0-23f0-4950-86f9-68cbdc97c88f",
   "metadata": {},
   "outputs": [],
   "source": [
    "car1_model={'Mercedes':1960}\n",
    "car2_model={'Audi':1970}\n",
    "car3_model={'Lambo':1980}\n",
    "car_type={'car1':car1_model,'car2':car2_model,'car3':car3_model}"
   ]
  },
  {
   "cell_type": "code",
   "execution_count": 80,
   "id": "6da0e2ff-1da0-4710-838e-96e83a6701cd",
   "metadata": {},
   "outputs": [
    {
     "data": {
      "text/plain": [
       "{'car1': {'Mercedes': 1960}, 'car2': {'Audi': 1970}, 'car3': {'Lambo': 1980}}"
      ]
     },
     "execution_count": 80,
     "metadata": {},
     "output_type": "execute_result"
    }
   ],
   "source": [
    "car_type"
   ]
  },
  {
   "cell_type": "code",
   "execution_count": 98,
   "id": "3cf4b10f-9b40-4a0c-943a-318aae2790ca",
   "metadata": {},
   "outputs": [
    {
     "data": {
      "text/plain": [
       "{'Mercedes': 1960}"
      ]
     },
     "execution_count": 98,
     "metadata": {},
     "output_type": "execute_result"
    }
   ],
   "source": [
    "# Accessing items in the dictionary\n",
    "car_type['car1']"
   ]
  },
  {
   "cell_type": "code",
   "execution_count": 102,
   "id": "37086c3a-6702-4bf5-bcfc-14d7a217663a",
   "metadata": {},
   "outputs": [
    {
     "data": {
      "text/plain": [
       "1970"
      ]
     },
     "execution_count": 102,
     "metadata": {},
     "output_type": "execute_result"
    }
   ],
   "source": [
    "car_type['car2']['Audi']"
   ]
  },
  {
   "cell_type": "markdown",
   "id": "c816a2c6-319a-46fb-a412-2a97c7b11da6",
   "metadata": {},
   "source": [
    "#### TUPLES\n",
    "###### A tuple is an ordered collection of elements, enclosed in parentheses. Unlike lists, tuples are immutable, which means that once a tuple is created, its elements cannot be modified. Tuples can contain elements of different data types, such as integers, strings, floats, or even other tuples"
   ]
  },
  {
   "cell_type": "code",
   "execution_count": 108,
   "id": "e6837e5e-8719-413b-bde6-b78083791701",
   "metadata": {},
   "outputs": [],
   "source": [
    "# Creating an empty tuple\n",
    "my_tuple=tuple()"
   ]
  },
  {
   "cell_type": "code",
   "execution_count": 112,
   "id": "034432fe-da34-4045-8757-8b93f570268c",
   "metadata": {},
   "outputs": [],
   "source": [
    "my_tuple=(\"Ram\",\"Raman\",\"Rakesh\")"
   ]
  },
  {
   "cell_type": "code",
   "execution_count": 114,
   "id": "dd5f52d1-cd9f-43e5-9e5d-14aaf2685fec",
   "metadata": {},
   "outputs": [
    {
     "data": {
      "text/plain": [
       "'Ram'"
      ]
     },
     "execution_count": 114,
     "metadata": {},
     "output_type": "execute_result"
    }
   ],
   "source": [
    "my_tuple[0]"
   ]
  },
  {
   "cell_type": "code",
   "execution_count": 118,
   "id": "ea48e630-031c-420e-8f96-2adc69cfd092",
   "metadata": {},
   "outputs": [],
   "source": [
    "# We can completely change the whole tuple, but not a single item from it"
   ]
  }
 ],
 "metadata": {
  "kernelspec": {
   "display_name": "Python 3 (ipykernel)",
   "language": "python",
   "name": "python3"
  },
  "language_info": {
   "codemirror_mode": {
    "name": "ipython",
    "version": 3
   },
   "file_extension": ".py",
   "mimetype": "text/x-python",
   "name": "python",
   "nbconvert_exporter": "python",
   "pygments_lexer": "ipython3",
   "version": "3.11.7"
  }
 },
 "nbformat": 4,
 "nbformat_minor": 5
}
