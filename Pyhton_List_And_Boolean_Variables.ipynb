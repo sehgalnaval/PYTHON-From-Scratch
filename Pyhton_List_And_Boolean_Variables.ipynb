{
 "cells": [
  {
   "cell_type": "markdown",
   "id": "e9dc3f05-276d-4c0e-8b35-8bc1c9217562",
   "metadata": {},
   "source": [
    "### STR OPERATIONS"
   ]
  },
  {
   "cell_type": "code",
   "execution_count": 161,
   "id": "be347792-e403-4d9f-82db-d027bbb7c309",
   "metadata": {},
   "outputs": [],
   "source": [
    "# LIFE HACKS - CLICK on any cell and press a to add a cell above it and b to add a cell below that cell"
   ]
  },
  {
   "cell_type": "code",
   "execution_count": 162,
   "id": "ffa4963c-0308-44e5-94c2-f864a6994615",
   "metadata": {},
   "outputs": [],
   "source": [
    "my_str=\"Hellopython\""
   ]
  },
  {
   "cell_type": "code",
   "execution_count": 163,
   "id": "fbed8bce-9eef-4b3e-9ea6-2475b01d0215",
   "metadata": {},
   "outputs": [
    {
     "data": {
      "text/plain": [
       "True"
      ]
     },
     "execution_count": 163,
     "metadata": {},
     "output_type": "execute_result"
    }
   ],
   "source": [
    "my_str.isalpha()"
   ]
  },
  {
   "cell_type": "code",
   "execution_count": 164,
   "id": "0531744b-d3e4-4517-82b6-195391892940",
   "metadata": {},
   "outputs": [
    {
     "data": {
      "text/plain": [
       "True"
      ]
     },
     "execution_count": 164,
     "metadata": {},
     "output_type": "execute_result"
    }
   ],
   "source": [
    "my_str.isalnum()"
   ]
  },
  {
   "cell_type": "code",
   "execution_count": 165,
   "id": "48cdcd2f-1863-43e2-994e-913630f996d9",
   "metadata": {},
   "outputs": [
    {
     "data": {
      "text/plain": [
       "True"
      ]
     },
     "execution_count": 165,
     "metadata": {},
     "output_type": "execute_result"
    }
   ],
   "source": [
    "my_str.istitle()"
   ]
  },
  {
   "cell_type": "code",
   "execution_count": 166,
   "id": "b254acc6-17ae-4448-8760-87b24f5dafa8",
   "metadata": {},
   "outputs": [
    {
     "data": {
      "text/plain": [
       "False"
      ]
     },
     "execution_count": 166,
     "metadata": {},
     "output_type": "execute_result"
    }
   ],
   "source": [
    "my_str.endswith('N')"
   ]
  },
  {
   "cell_type": "markdown",
   "id": "858e5e0e-eb71-41a7-9ec3-284dd7ca8342",
   "metadata": {},
   "source": [
    "### BOOLEAN OPERATIONS"
   ]
  },
  {
   "cell_type": "code",
   "execution_count": 168,
   "id": "91d56961-10de-47b8-ab4f-836b0b39407a",
   "metadata": {},
   "outputs": [
    {
     "data": {
      "text/plain": [
       "True"
      ]
     },
     "execution_count": 168,
     "metadata": {},
     "output_type": "execute_result"
    }
   ],
   "source": [
    "True and True"
   ]
  },
  {
   "cell_type": "code",
   "execution_count": 169,
   "id": "80698258-1793-4fb2-b3e9-94f9a12ba913",
   "metadata": {},
   "outputs": [
    {
     "data": {
      "text/plain": [
       "True"
      ]
     },
     "execution_count": 169,
     "metadata": {},
     "output_type": "execute_result"
    }
   ],
   "source": [
    "True or False"
   ]
  },
  {
   "cell_type": "code",
   "execution_count": 170,
   "id": "0c50eb0b-ae1b-44ef-a514-56023f70ffb4",
   "metadata": {},
   "outputs": [
    {
     "data": {
      "text/plain": [
       "False"
      ]
     },
     "execution_count": 170,
     "metadata": {},
     "output_type": "execute_result"
    }
   ],
   "source": [
    "True and False"
   ]
  },
  {
   "cell_type": "code",
   "execution_count": 171,
   "id": "928d8467-2bf7-4e5e-bb2f-fff63dba2abd",
   "metadata": {},
   "outputs": [
    {
     "data": {
      "text/plain": [
       "True"
      ]
     },
     "execution_count": 171,
     "metadata": {},
     "output_type": "execute_result"
    }
   ],
   "source": [
    "True or True"
   ]
  },
  {
   "cell_type": "markdown",
   "id": "bd1b6e99-97d3-458f-97d3-5bf4e5f97c73",
   "metadata": {},
   "source": [
    "### Lists"
   ]
  },
  {
   "cell_type": "markdown",
   "id": "85eabd3e-6d5a-44c9-8dcd-1da9dd7d4bdb",
   "metadata": {},
   "source": [
    "##### A list is a data structure in Python, that is mutable, or chnageable, ordered sequence of elements. Each element or value that is inside a list is called an item. Just as strings are defined as characters between quotes (), lists are defined by having values between square brackets []. "
   ]
  },
  {
   "cell_type": "code",
   "execution_count": 174,
   "id": "d5e3b890-9492-47bb-9938-232310c8f4d2",
   "metadata": {},
   "outputs": [
    {
     "data": {
      "text/plain": [
       "list"
      ]
     },
     "execution_count": 174,
     "metadata": {},
     "output_type": "execute_result"
    }
   ],
   "source": [
    "type([])"
   ]
  },
  {
   "cell_type": "code",
   "execution_count": 188,
   "id": "fa438f73-c0ed-488e-89b9-0cdc0dfa734f",
   "metadata": {},
   "outputs": [],
   "source": [
    "# lst=list()\n",
    "# type(lst)"
   ]
  },
  {
   "cell_type": "code",
   "execution_count": 190,
   "id": "320756a1-12f2-4fd7-aa78-8bf016f308f5",
   "metadata": {},
   "outputs": [],
   "source": [
    "hey=['Mathematics','Physics','Python','1','2',4,45]"
   ]
  },
  {
   "cell_type": "code",
   "execution_count": 194,
   "id": "630cecb8-c106-4a2d-babc-fee5a145ada8",
   "metadata": {},
   "outputs": [
    {
     "data": {
      "text/plain": [
       "list"
      ]
     },
     "execution_count": 194,
     "metadata": {},
     "output_type": "execute_result"
    }
   ],
   "source": [
    "type(hey)"
   ]
  },
  {
   "cell_type": "markdown",
   "id": "88b6b80b-ea85-47f3-8d95-92161b682af2",
   "metadata": {},
   "source": [
    "### Append"
   ]
  },
  {
   "cell_type": "code",
   "execution_count": 196,
   "id": "19f10f31-3c9b-418e-ab18-58bf25185bcc",
   "metadata": {},
   "outputs": [],
   "source": [
    "hey=['Mathematics','Physics','Python','1','2',4,45]"
   ]
  },
  {
   "cell_type": "code",
   "execution_count": 197,
   "id": "2da1dc57-16d2-4dd0-a99b-4bbe04b4ba63",
   "metadata": {},
   "outputs": [],
   "source": [
    "hey.append('Chemistry')"
   ]
  },
  {
   "cell_type": "code",
   "execution_count": 198,
   "id": "c01af8f4-bf54-456b-8c23-eaa7ad416399",
   "metadata": {},
   "outputs": [
    {
     "data": {
      "text/plain": [
       "['Mathematics', 'Physics', 'Python', '1', '2', 4, 45, 'Chemistry']"
      ]
     },
     "execution_count": 198,
     "metadata": {},
     "output_type": "execute_result"
    }
   ],
   "source": [
    "hey"
   ]
  },
  {
   "cell_type": "code",
   "execution_count": 199,
   "id": "c763c5b6-d786-409e-842e-c779e3b580e3",
   "metadata": {},
   "outputs": [
    {
     "data": {
      "text/plain": [
       "'1'"
      ]
     },
     "execution_count": 199,
     "metadata": {},
     "output_type": "execute_result"
    }
   ],
   "source": [
    "# Indexing in List\n",
    "hey[3]"
   ]
  },
  {
   "cell_type": "code",
   "execution_count": 200,
   "id": "e5f140d5-bdc5-420f-bd32-7ae0ccf98154",
   "metadata": {},
   "outputs": [
    {
     "data": {
      "text/plain": [
       "'Mathematics'"
      ]
     },
     "execution_count": 200,
     "metadata": {},
     "output_type": "execute_result"
    }
   ],
   "source": [
    "hey[0]"
   ]
  },
  {
   "cell_type": "code",
   "execution_count": 201,
   "id": "3b48501c-eccc-4040-8d40-df1e579bf5a1",
   "metadata": {},
   "outputs": [
    {
     "data": {
      "text/plain": [
       "['Mathematics', 'Physics', 'Python', '1', '2']"
      ]
     },
     "execution_count": 201,
     "metadata": {},
     "output_type": "execute_result"
    }
   ],
   "source": [
    "# SLICING BETWEEN LISTS\n",
    "hey[:5]\n",
    "# Till index 5 all elements"
   ]
  },
  {
   "cell_type": "code",
   "execution_count": 202,
   "id": "432a9b86-4e05-41a3-b609-1dd12d643da3",
   "metadata": {},
   "outputs": [
    {
     "data": {
      "text/plain": [
       "['Python', '1', '2', 4, 45, 'Chemistry']"
      ]
     },
     "execution_count": 202,
     "metadata": {},
     "output_type": "execute_result"
    }
   ],
   "source": [
    "hey[2:]\n",
    "# All elements from index 2 till the end"
   ]
  },
  {
   "cell_type": "code",
   "execution_count": 203,
   "id": "44043342-adb6-4338-bd7b-85270014d9b9",
   "metadata": {},
   "outputs": [
    {
     "data": {
      "text/plain": [
       "['Physics', 'Python']"
      ]
     },
     "execution_count": 203,
     "metadata": {},
     "output_type": "execute_result"
    }
   ],
   "source": [
    "hey[1:3]\n",
    "# Indexes from 1 to 3, such as the i will not be included, that is index 1 will not be included, but 3 wwill be."
   ]
  },
  {
   "cell_type": "code",
   "execution_count": 204,
   "id": "70588f74-5927-42a4-a80c-96e0f1fa2deb",
   "metadata": {},
   "outputs": [],
   "source": [
    "# Appending a list in list\n",
    "hey.append(['Raman', 'Chaman'])"
   ]
  },
  {
   "cell_type": "code",
   "execution_count": 205,
   "id": "b3fba987-35a3-4d36-84e0-4c4fc479dfba",
   "metadata": {},
   "outputs": [
    {
     "data": {
      "text/plain": [
       "['Mathematics',\n",
       " 'Physics',\n",
       " 'Python',\n",
       " '1',\n",
       " '2',\n",
       " 4,\n",
       " 45,\n",
       " 'Chemistry',\n",
       " ['Raman', 'Chaman']]"
      ]
     },
     "execution_count": 205,
     "metadata": {},
     "output_type": "execute_result"
    }
   ],
   "source": [
    "hey"
   ]
  },
  {
   "cell_type": "code",
   "execution_count": 206,
   "id": "02308346-17f1-45bc-894d-047b85da6026",
   "metadata": {},
   "outputs": [
    {
     "data": {
      "text/plain": [
       "['Raman', 'Chaman']"
      ]
     },
     "execution_count": 206,
     "metadata": {},
     "output_type": "execute_result"
    }
   ],
   "source": [
    "hey[8]"
   ]
  },
  {
   "cell_type": "markdown",
   "id": "dadf9d33-0932-44f9-a7d0-e4c507277507",
   "metadata": {},
   "source": [
    "#### Extend Method"
   ]
  },
  {
   "cell_type": "code",
   "execution_count": 208,
   "id": "56339426-541c-4f68-ade6-7ec7f7850deb",
   "metadata": {},
   "outputs": [],
   "source": [
    "list=[1,2,3,4,5,6]"
   ]
  },
  {
   "cell_type": "code",
   "execution_count": 209,
   "id": "d71750c4-38b4-4ca0-a0a2-c883206041c9",
   "metadata": {},
   "outputs": [],
   "source": [
    "# list.extend()\n",
    "# Press shidt + tab between brackets of any function to read what the function is about "
   ]
  },
  {
   "cell_type": "code",
   "execution_count": 210,
   "id": "708cf1cc-0423-42f4-b9b6-1ff3924f9589",
   "metadata": {},
   "outputs": [],
   "source": [
    "list.extend([8,9])"
   ]
  },
  {
   "cell_type": "code",
   "execution_count": 211,
   "id": "25896ac4-1a7b-4421-8d44-691acc64ed17",
   "metadata": {},
   "outputs": [
    {
     "data": {
      "text/plain": [
       "[1, 2, 3, 4, 5, 6, 8, 9]"
      ]
     },
     "execution_count": 211,
     "metadata": {},
     "output_type": "execute_result"
    }
   ],
   "source": [
    "list"
   ]
  },
  {
   "cell_type": "markdown",
   "id": "7723ef63-6191-4e3f-a4f4-e27907604694",
   "metadata": {},
   "source": [
    "#### Operations in List"
   ]
  },
  {
   "cell_type": "code",
   "execution_count": 286,
   "id": "8b929cb4-2210-47e4-928e-6c46f9c12126",
   "metadata": {},
   "outputs": [],
   "source": [
    "list=[1,2,3,4,5,6]"
   ]
  },
  {
   "cell_type": "code",
   "execution_count": 288,
   "id": "6cbbab8c-9533-401c-9e2c-105872df8382",
   "metadata": {},
   "outputs": [
    {
     "data": {
      "text/plain": [
       "21"
      ]
     },
     "execution_count": 288,
     "metadata": {},
     "output_type": "execute_result"
    }
   ],
   "source": [
    "sum(list)"
   ]
  },
  {
   "cell_type": "code",
   "execution_count": 290,
   "id": "9382cdd1-d83d-45fe-9403-5d2390621478",
   "metadata": {},
   "outputs": [
    {
     "data": {
      "text/plain": [
       "[1, 2, 3, 4, 5, 6, 1, 2, 3, 4, 5, 6]"
      ]
     },
     "execution_count": 290,
     "metadata": {},
     "output_type": "execute_result"
    }
   ],
   "source": [
    "list*2"
   ]
  },
  {
   "cell_type": "code",
   "execution_count": 215,
   "id": "b6957ca7-47e2-43d0-bb7a-3a538416b167",
   "metadata": {},
   "outputs": [
    {
     "data": {
      "text/plain": [
       "6"
      ]
     },
     "execution_count": 215,
     "metadata": {},
     "output_type": "execute_result"
    }
   ],
   "source": [
    "list.pop()\n",
    "# Removing the last element"
   ]
  },
  {
   "cell_type": "code",
   "execution_count": 216,
   "id": "1f06cad7-20ba-4771-ae11-8371953a676a",
   "metadata": {},
   "outputs": [
    {
     "data": {
      "text/plain": [
       "[1, 2, 3, 4, 5]"
      ]
     },
     "execution_count": 216,
     "metadata": {},
     "output_type": "execute_result"
    }
   ],
   "source": [
    "list"
   ]
  },
  {
   "cell_type": "code",
   "execution_count": 237,
   "id": "641b3e9d-0972-430c-bd21-0f52d16efa71",
   "metadata": {},
   "outputs": [
    {
     "data": {
      "text/plain": [
       "[1, 2, 3, 5]"
      ]
     },
     "execution_count": 237,
     "metadata": {},
     "output_type": "execute_result"
    }
   ],
   "source": [
    "# A particular index element\n",
    "list.pop(3)\n",
    "list"
   ]
  },
  {
   "cell_type": "markdown",
   "id": "f2cee7f6-27cc-4e38-b2cf-bde31cbf3759",
   "metadata": {},
   "source": [
    "#### count() - Occurences of a given element in a list"
   ]
  },
  {
   "cell_type": "code",
   "execution_count": 252,
   "id": "d63886c7-8123-447c-8d7b-bf6f58d0965a",
   "metadata": {},
   "outputs": [],
   "source": [
    "list=[1,1,3,4,5,6]"
   ]
  },
  {
   "cell_type": "code",
   "execution_count": 254,
   "id": "674fefb0-3aee-41a9-855f-2508c7f92605",
   "metadata": {},
   "outputs": [
    {
     "data": {
      "text/plain": [
       "2"
      ]
     },
     "execution_count": 254,
     "metadata": {},
     "output_type": "execute_result"
    }
   ],
   "source": [
    "list.count(1)"
   ]
  },
  {
   "cell_type": "code",
   "execution_count": 256,
   "id": "6152eebc-de2b-486c-a737-7203f043957e",
   "metadata": {},
   "outputs": [
    {
     "data": {
      "text/plain": [
       "6"
      ]
     },
     "execution_count": 256,
     "metadata": {},
     "output_type": "execute_result"
    }
   ],
   "source": [
    "# length of list\n",
    "len(list)"
   ]
  },
  {
   "cell_type": "code",
   "execution_count": 264,
   "id": "d06e51c9-ff92-4a5a-a9f8-a85d72e3a5a7",
   "metadata": {},
   "outputs": [
    {
     "data": {
      "text/plain": [
       "0"
      ]
     },
     "execution_count": 264,
     "metadata": {},
     "output_type": "execute_result"
    }
   ],
   "source": [
    "# index()- Returns the index of first parameter. Start and End index are not necesssary paramteres.\n",
    "list.index(1)"
   ]
  },
  {
   "cell_type": "code",
   "execution_count": 276,
   "id": "003cf9b0-bb1d-451b-ba8e-05be3b528394",
   "metadata": {},
   "outputs": [
    {
     "data": {
      "text/plain": [
       "1"
      ]
     },
     "execution_count": 276,
     "metadata": {},
     "output_type": "execute_result"
    }
   ],
   "source": [
    "list.index(1,1,4)\n",
    "# value, start index, end index\n",
    "# at what index the element will be found first time"
   ]
  },
  {
   "cell_type": "code",
   "execution_count": 278,
   "id": "161e35ee-f20d-4fca-9d54-6058ec68cb44",
   "metadata": {},
   "outputs": [
    {
     "data": {
      "text/plain": [
       "1"
      ]
     },
     "execution_count": 278,
     "metadata": {},
     "output_type": "execute_result"
    }
   ],
   "source": [
    "# Mind and Max\n",
    "min(list)"
   ]
  },
  {
   "cell_type": "code",
   "execution_count": 282,
   "id": "19a2450d-16f4-4dd1-8bcf-7687f4dcfed2",
   "metadata": {},
   "outputs": [
    {
     "data": {
      "text/plain": [
       "6"
      ]
     },
     "execution_count": 282,
     "metadata": {},
     "output_type": "execute_result"
    }
   ],
   "source": [
    "max(list)"
   ]
  }
 ],
 "metadata": {
  "kernelspec": {
   "display_name": "Python 3 (ipykernel)",
   "language": "python",
   "name": "python3"
  },
  "language_info": {
   "codemirror_mode": {
    "name": "ipython",
    "version": 3
   },
   "file_extension": ".py",
   "mimetype": "text/x-python",
   "name": "python",
   "nbconvert_exporter": "python",
   "pygments_lexer": "ipython3",
   "version": "3.11.7"
  }
 },
 "nbformat": 4,
 "nbformat_minor": 5
}
