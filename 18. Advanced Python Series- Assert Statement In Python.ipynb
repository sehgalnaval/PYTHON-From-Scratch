{
 "cells": [
  {
   "cell_type": "markdown",
   "id": "53293ad1-7c19-42ac-8584-0b1f1e84e1a6",
   "metadata": {},
   "source": [
    "# Advanced Python Series- Assert Statement In Python"
   ]
  },
  {
   "cell_type": "markdown",
   "id": "cb1b6e62-59c2-45d1-8f61-538a020feefe",
   "metadata": {},
   "source": [
    "### Python Assert\n",
    "Python provides the assert statement to check if a given logical expression is true or false.\n",
    "Program execution proceeds only if the expression is true, while it raises the AssertionError when it is false. The following code of will sshow the usage of assert staement"
   ]
  },
  {
   "cell_type": "code",
   "execution_count": 4,
   "id": "8c9806a4-742c-4d11-b800-9966e034fc96",
   "metadata": {},
   "outputs": [
    {
     "data": {
      "text/plain": [
       "False"
      ]
     },
     "execution_count": 4,
     "metadata": {},
     "output_type": "execute_result"
    }
   ],
   "source": [
    "10>10"
   ]
  },
  {
   "cell_type": "code",
   "execution_count": 6,
   "id": "a9f42677-23b6-4f86-a690-6f4c8c4d48f0",
   "metadata": {
    "scrolled": true
   },
   "outputs": [
    {
     "ename": "AssertionError",
     "evalue": "",
     "output_type": "error",
     "traceback": [
      "\u001b[1;31m---------------------------------------------------------------------------\u001b[0m",
      "\u001b[1;31mAssertionError\u001b[0m                            Traceback (most recent call last)",
      "Cell \u001b[1;32mIn[6], line 2\u001b[0m\n\u001b[0;32m      1\u001b[0m num\u001b[38;5;241m=\u001b[39m\u001b[38;5;241m10\u001b[39m\n\u001b[1;32m----> 2\u001b[0m \u001b[38;5;28;01massert\u001b[39;00m num\u001b[38;5;241m>\u001b[39m\u001b[38;5;241m10\u001b[39m\n",
      "\u001b[1;31mAssertionError\u001b[0m: "
     ]
    }
   ],
   "source": [
    "num=10\n",
    "assert num>10"
   ]
  },
  {
   "cell_type": "code",
   "execution_count": 8,
   "id": "839a090a-3bda-4bb0-806a-e004838bb522",
   "metadata": {},
   "outputs": [],
   "source": [
    "num=10\n",
    "assert num>=10"
   ]
  },
  {
   "cell_type": "code",
   "execution_count": 10,
   "id": "dc37a476-a0c0-440d-b12e-f404848a3c4c",
   "metadata": {},
   "outputs": [
    {
     "name": "stdin",
     "output_type": "stream",
     "text": [
      "Enter the number:  4\n"
     ]
    },
    {
     "name": "stdout",
     "output_type": "stream",
     "text": [
      "The number is even\n"
     ]
    }
   ],
   "source": [
    "# Handling AssertionError\n",
    "try:\n",
    "    num=int(input(\"Enter the number: \"))\n",
    "    assert num%2==0\n",
    "    print(\"The number is even\")\n",
    "except AssertionError:\n",
    "    print(\"AssertionError\")"
   ]
  },
  {
   "cell_type": "code",
   "execution_count": 12,
   "id": "05623103-ed58-45a6-b4f7-4b4c7ba61b5a",
   "metadata": {},
   "outputs": [
    {
     "name": "stdin",
     "output_type": "stream",
     "text": [
      "Enter the number:  5\n"
     ]
    },
    {
     "name": "stdout",
     "output_type": "stream",
     "text": [
      "AssertionError\n"
     ]
    }
   ],
   "source": [
    "# Handling AssertionError\n",
    "try:\n",
    "    num=int(input(\"Enter the number: \"))\n",
    "    assert num%2==0\n",
    "    print(\"The number is even\")\n",
    "except AssertionError:\n",
    "    print(\"AssertionError\")"
   ]
  }
 ],
 "metadata": {
  "kernelspec": {
   "display_name": "Python 3 (ipykernel)",
   "language": "python",
   "name": "python3"
  },
  "language_info": {
   "codemirror_mode": {
    "name": "ipython",
    "version": 3
   },
   "file_extension": ".py",
   "mimetype": "text/x-python",
   "name": "python",
   "nbconvert_exporter": "python",
   "pygments_lexer": "ipython3",
   "version": "3.11.7"
  }
 },
 "nbformat": 4,
 "nbformat_minor": 5
}
