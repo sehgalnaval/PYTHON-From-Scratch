{
 "cells": [
  {
   "cell_type": "code",
   "execution_count": 1,
   "id": "9b9653ed-88d3-4023-a3e1-66b60a82e2a6",
   "metadata": {},
   "outputs": [
    {
     "name": "stdout",
     "output_type": "stream",
     "text": [
      "Hello Everyone\n"
     ]
    }
   ],
   "source": [
    "print('Hello Everyone')"
   ]
  },
  {
   "cell_type": "code",
   "execution_count": 21,
   "id": "757d7fdf-cc81-4681-b355-2c08fa078c12",
   "metadata": {},
   "outputs": [],
   "source": [
    "# strs=\"Hello Everyone\""
   ]
  },
  {
   "cell_type": "code",
   "execution_count": 35,
   "id": "21fcacf8-b70b-40bd-9f15-fb504783e525",
   "metadata": {},
   "outputs": [],
   "source": [
    "def greeting(name):\n",
    "    return \"Hello {}. Welcome to the community\".format(name)"
   ]
  },
  {
   "cell_type": "code",
   "execution_count": 37,
   "id": "2170c843-4b8b-4b0d-8292-a5e55f216276",
   "metadata": {},
   "outputs": [
    {
     "data": {
      "text/plain": [
       "'Hello Krish. Welcome to the community'"
      ]
     },
     "execution_count": 37,
     "metadata": {},
     "output_type": "execute_result"
    }
   ],
   "source": [
    "greeting('Krish')"
   ]
  },
  {
   "cell_type": "code",
   "execution_count": 47,
   "id": "286d8b9e-bae2-4dd4-91fc-4fcb28c3dc43",
   "metadata": {},
   "outputs": [],
   "source": [
    "def welcome_email(firstname, age):\n",
    "    return \"Welcome {}, your age is {}\".format(firstname,age)"
   ]
  },
  {
   "cell_type": "code",
   "execution_count": 49,
   "id": "e42e90ce-e6fd-4f9f-92b0-1b711c5204ad",
   "metadata": {},
   "outputs": [
    {
     "data": {
      "text/plain": [
       "'Welcome Krish, your age is 29'"
      ]
     },
     "execution_count": 49,
     "metadata": {},
     "output_type": "execute_result"
    }
   ],
   "source": [
    "welcome_email('Krish',29)"
   ]
  },
  {
   "cell_type": "code",
   "execution_count": 53,
   "id": "5d0973e6-ba8f-418f-a4a6-1fb41e800632",
   "metadata": {},
   "outputs": [],
   "source": [
    "def welcome_email1(name, age):\n",
    "    return \"Welcome {name1}, your age is {age1}\".format(name1=name,age1=age)"
   ]
  },
  {
   "cell_type": "code",
   "execution_count": 55,
   "id": "4bc4581b-e6eb-4d0d-bd37-59f9a7e19630",
   "metadata": {},
   "outputs": [
    {
     "data": {
      "text/plain": [
       "'Welcome Daksh, your age is 22'"
      ]
     },
     "execution_count": 55,
     "metadata": {},
     "output_type": "execute_result"
    }
   ],
   "source": [
    "welcome_email1('Daksh',22)"
   ]
  }
 ],
 "metadata": {
  "kernelspec": {
   "display_name": "Python 3 (ipykernel)",
   "language": "python",
   "name": "python3"
  },
  "language_info": {
   "codemirror_mode": {
    "name": "ipython",
    "version": 3
   },
   "file_extension": ".py",
   "mimetype": "text/x-python",
   "name": "python",
   "nbconvert_exporter": "python",
   "pygments_lexer": "ipython3",
   "version": "3.11.7"
  }
 },
 "nbformat": 4,
 "nbformat_minor": 5
}
