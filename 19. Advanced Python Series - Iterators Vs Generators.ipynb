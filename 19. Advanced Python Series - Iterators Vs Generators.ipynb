{
 "cells": [
  {
   "cell_type": "markdown",
   "id": "579753a6-79a3-4e7c-9e90-e95bff027c23",
   "metadata": {},
   "source": [
    "## Python - Iterators Vs Generators"
   ]
  },
  {
   "cell_type": "code",
   "execution_count": 106,
   "id": "142b118f-1fb9-4d59-bdd8-1a1f16b01509",
   "metadata": {},
   "outputs": [
    {
     "name": "stdout",
     "output_type": "stream",
     "text": [
      "1\n",
      "2\n",
      "3\n",
      "4\n"
     ]
    }
   ],
   "source": [
    "# So, list is Iterable \n",
    "lst=[1,2,3,4]\n",
    "for i in lst:\n",
    "    print(i)"
   ]
  },
  {
   "cell_type": "code",
   "execution_count": 107,
   "id": "863ef9de-50a3-483c-9f07-6139038a90b6",
   "metadata": {},
   "outputs": [],
   "source": [
    "# Iterator\n",
    "# We can iterate\n",
    "iterable=iter(lst)"
   ]
  },
  {
   "cell_type": "code",
   "execution_count": 108,
   "id": "634430e0-42b1-417e-8fc8-ab5b44bd0939",
   "metadata": {},
   "outputs": [
    {
     "name": "stdout",
     "output_type": "stream",
     "text": [
      "1\n",
      "2\n",
      "3\n",
      "4\n"
     ]
    }
   ],
   "source": [
    "for i in iterable:\n",
    "    print(i)"
   ]
  },
  {
   "cell_type": "code",
   "execution_count": 109,
   "id": "ed09e783-7254-41df-ae27-b5e0c444c25c",
   "metadata": {},
   "outputs": [
    {
     "data": {
      "text/plain": [
       "<list_iterator at 0x13aeba2b190>"
      ]
     },
     "execution_count": 109,
     "metadata": {},
     "output_type": "execute_result"
    }
   ],
   "source": [
    "# This is adynamic cell all elements will not be there , we have to iterate theorugh it\n",
    "iterable"
   ]
  },
  {
   "cell_type": "code",
   "execution_count": 110,
   "id": "e648171f-6935-4e11-9c58-09e8bddfcb64",
   "metadata": {},
   "outputs": [],
   "source": [
    "iterable=iter(lst)"
   ]
  },
  {
   "cell_type": "code",
   "execution_count": 111,
   "id": "ec722b05-5219-4c30-b0d6-e588239210eb",
   "metadata": {},
   "outputs": [
    {
     "data": {
      "text/plain": [
       "1"
      ]
     },
     "execution_count": 111,
     "metadata": {},
     "output_type": "execute_result"
    }
   ],
   "source": [
    "next(iterable)"
   ]
  },
  {
   "cell_type": "code",
   "execution_count": 112,
   "id": "d48c1af1-403a-49fc-ad97-43f99c51208f",
   "metadata": {
    "scrolled": true
   },
   "outputs": [
    {
     "data": {
      "text/plain": [
       "2"
      ]
     },
     "execution_count": 112,
     "metadata": {},
     "output_type": "execute_result"
    }
   ],
   "source": [
    "# Dynamic memory cell till i=4\n",
    "next(iterable)"
   ]
  },
  {
   "cell_type": "code",
   "execution_count": 113,
   "id": "f0a1b23e-9a6c-4ed4-8cf4-62fb5d68d05c",
   "metadata": {},
   "outputs": [
    {
     "name": "stdout",
     "output_type": "stream",
     "text": [
      "3\n"
     ]
    }
   ],
   "source": [
    "try:\n",
    "    print(next(iterable))\n",
    "except StopIteration:\n",
    "    print(\"The iterator is empty\")"
   ]
  },
  {
   "cell_type": "markdown",
   "id": "645dd9fb-402c-48df-9a68-755b02248f5d",
   "metadata": {},
   "source": [
    "How to create a generator, which is then useful to create a iterator itself"
   ]
  },
  {
   "cell_type": "code",
   "execution_count": 115,
   "id": "7fa95db3-750f-4b89-bad4-9ff4960c442b",
   "metadata": {},
   "outputs": [],
   "source": [
    "# Generator\n",
    "def sqaure(n):\n",
    "    for i in range(n):\n",
    "        return i**2"
   ]
  },
  {
   "cell_type": "code",
   "execution_count": 116,
   "id": "90922cc5-c530-4b2b-8711-3162a11ddf24",
   "metadata": {},
   "outputs": [
    {
     "data": {
      "text/plain": [
       "0"
      ]
     },
     "execution_count": 116,
     "metadata": {},
     "output_type": "execute_result"
    }
   ],
   "source": [
    "# Returning the sqqaure of first value, 0\n",
    "sqaure(3)"
   ]
  },
  {
   "cell_type": "code",
   "execution_count": 117,
   "id": "cb1d3e04-38fd-4220-813e-e466708293d9",
   "metadata": {},
   "outputs": [
    {
     "ename": "TypeError",
     "evalue": "'int' object is not iterable",
     "output_type": "error",
     "traceback": [
      "\u001b[1;31m---------------------------------------------------------------------------\u001b[0m",
      "\u001b[1;31mTypeError\u001b[0m                                 Traceback (most recent call last)",
      "Cell \u001b[1;32mIn[117], line 1\u001b[0m\n\u001b[1;32m----> 1\u001b[0m \u001b[38;5;28;01mfor\u001b[39;00m i \u001b[38;5;129;01min\u001b[39;00m sqaure(\u001b[38;5;241m3\u001b[39m):\n\u001b[0;32m      2\u001b[0m     \u001b[38;5;28mprint\u001b[39m(i)\n",
      "\u001b[1;31mTypeError\u001b[0m: 'int' object is not iterable"
     ]
    }
   ],
   "source": [
    "for i in sqaure(3):\n",
    "    print(i)"
   ]
  },
  {
   "cell_type": "code",
   "execution_count": 124,
   "id": "85057eb1-6f47-48ab-bb4d-eca11b0e26fa",
   "metadata": {},
   "outputs": [],
   "source": [
    "# using yield to convert the whole function to iterator\n",
    "def sqaure(n):\n",
    "    for  i in range(n):\n",
    "        yield i**2\n",
    "    # It makes the whole function a iterator, but itself it is a generator"
   ]
  },
  {
   "cell_type": "code",
   "execution_count": 126,
   "id": "d54974c8-1cb6-4eb4-ac1b-042c194d2056",
   "metadata": {},
   "outputs": [
    {
     "data": {
      "text/plain": [
       "<generator object sqaure at 0x0000013AEBE6FE00>"
      ]
     },
     "execution_count": 126,
     "metadata": {},
     "output_type": "execute_result"
    }
   ],
   "source": [
    "sqaure(3)"
   ]
  },
  {
   "cell_type": "code",
   "execution_count": 128,
   "id": "d17cc13e-d5f0-4a13-98f3-fdc8b71ff226",
   "metadata": {},
   "outputs": [
    {
     "name": "stdout",
     "output_type": "stream",
     "text": [
      "0\n",
      "1\n",
      "4\n"
     ]
    }
   ],
   "source": [
    "for i in sqaure(3):\n",
    "    print(i)"
   ]
  },
  {
   "cell_type": "code",
   "execution_count": null,
   "id": "c39ee374-7588-4aac-9626-b0894e3db0e8",
   "metadata": {},
   "outputs": [],
   "source": [
    "a=sqaure(3)"
   ]
  },
  {
   "cell_type": "code",
   "execution_count": 130,
   "id": "f11cc700-ebec-4574-85f4-096731e5b031",
   "metadata": {},
   "outputs": [
    {
     "data": {
      "text/plain": [
       "<generator object sqaure at 0x0000013AE89FE190>"
      ]
     },
     "execution_count": 130,
     "metadata": {},
     "output_type": "execute_result"
    }
   ],
   "source": [
    "a"
   ]
  },
  {
   "cell_type": "code",
   "execution_count": 132,
   "id": "e0d16bfc-b763-42ad-9066-6fb1f12bd17c",
   "metadata": {},
   "outputs": [
    {
     "ename": "StopIteration",
     "evalue": "",
     "output_type": "error",
     "traceback": [
      "\u001b[1;31m---------------------------------------------------------------------------\u001b[0m",
      "\u001b[1;31mStopIteration\u001b[0m                             Traceback (most recent call last)",
      "Cell \u001b[1;32mIn[132], line 1\u001b[0m\n\u001b[1;32m----> 1\u001b[0m \u001b[38;5;28mnext\u001b[39m(a)\n",
      "\u001b[1;31mStopIteration\u001b[0m: "
     ]
    }
   ],
   "source": [
    "next(a)"
   ]
  },
  {
   "cell_type": "markdown",
   "id": "c04dabc6-591b-4f23-b3ce-e1bf3dc0bf5a",
   "metadata": {},
   "source": [
    "### Difference \n",
    "1. To create an in iterator we use iter() function and to create generator we use function with yield keyword.\n",
    "2. Generator uses the yield keyword. It saves the local variable value and also returns it, like here 0,1,4\n",
    "3. Generator in python helps us to write fast and compact code.\n",
    "4. Python iterator is much more memory effecient."
   ]
  },
  {
   "cell_type": "code",
   "execution_count": 135,
   "id": "8fe52b6c-48cd-4b09-b378-efa2ce46817a",
   "metadata": {},
   "outputs": [],
   "source": [
    "# import Iterator from the collections.abc module instead of collections. \n",
    "import types,collections.abc"
   ]
  },
  {
   "cell_type": "code",
   "execution_count": 137,
   "id": "48c51daf-ad39-4262-bd8c-9f99c7d1287f",
   "metadata": {},
   "outputs": [],
   "source": [
    "# Using issubclass checks whether the first argument is a subclass of the second, and since generator objects in Python implement the iterator protocol, issubclass(types.GeneratorType, collections.abc.Iterator) should return True."
   ]
  },
  {
   "cell_type": "code",
   "execution_count": 139,
   "id": "5d86b087-7fec-4ff4-816b-b804638ba06b",
   "metadata": {},
   "outputs": [
    {
     "data": {
      "text/plain": [
       "True"
      ]
     },
     "execution_count": 139,
     "metadata": {},
     "output_type": "execute_result"
    }
   ],
   "source": [
    "issubclass(types.GeneratorType, collections.abc.Iterator)"
   ]
  }
 ],
 "metadata": {
  "kernelspec": {
   "display_name": "Python 3 (ipykernel)",
   "language": "python",
   "name": "python3"
  },
  "language_info": {
   "codemirror_mode": {
    "name": "ipython",
    "version": 3
   },
   "file_extension": ".py",
   "mimetype": "text/x-python",
   "name": "python",
   "nbconvert_exporter": "python",
   "pygments_lexer": "ipython3",
   "version": "3.11.7"
  }
 },
 "nbformat": 4,
 "nbformat_minor": 5
}
