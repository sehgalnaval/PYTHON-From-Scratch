{
 "cells": [
  {
   "cell_type": "markdown",
   "id": "00117155-8124-4468-9dd8-ce9699f5b5b1",
   "metadata": {},
   "source": [
    "### Shallow Copy Vs Deep Copy in Python"
   ]
  },
  {
   "cell_type": "code",
   "execution_count": 129,
   "id": "f5e30238-b8e3-4e57-bd21-db4f2d70bf61",
   "metadata": {},
   "outputs": [],
   "source": [
    "##   = operation, copy operation, deepcopy()"
   ]
  },
  {
   "cell_type": "code",
   "execution_count": 130,
   "id": "4a3ac87e-9a73-44cd-a564-3e724dea700e",
   "metadata": {},
   "outputs": [],
   "source": [
    "lst1=[1,2,3,4]\n",
    "lst2=lst1"
   ]
  },
  {
   "cell_type": "code",
   "execution_count": 131,
   "id": "b5db8f82-f6f5-45c2-b74f-deb05fdfc924",
   "metadata": {},
   "outputs": [
    {
     "data": {
      "text/plain": [
       "([1, 2, 3, 4], [1, 2, 3, 4])"
      ]
     },
     "execution_count": 131,
     "metadata": {},
     "output_type": "execute_result"
    }
   ],
   "source": [
    "lst1,lst2"
   ]
  },
  {
   "cell_type": "code",
   "execution_count": 132,
   "id": "c0b31301-386a-479c-96d7-3505b91d53da",
   "metadata": {},
   "outputs": [],
   "source": [
    "lst2[1]=1000"
   ]
  },
  {
   "cell_type": "code",
   "execution_count": 133,
   "id": "e648cb3c-3e2e-4d47-9962-1a5727d68075",
   "metadata": {},
   "outputs": [
    {
     "data": {
      "text/plain": [
       "[1, 1000, 3, 4]"
      ]
     },
     "execution_count": 133,
     "metadata": {},
     "output_type": "execute_result"
    }
   ],
   "source": [
    "lst1"
   ]
  },
  {
   "cell_type": "code",
   "execution_count": 134,
   "id": "dc58ea6a-294e-40c4-ac04-ebe07a2a2c6c",
   "metadata": {},
   "outputs": [
    {
     "data": {
      "text/plain": [
       "[1, 1000, 3, 4]"
      ]
     },
     "execution_count": 134,
     "metadata": {},
     "output_type": "execute_result"
    }
   ],
   "source": [
    "lst2"
   ]
  },
  {
   "cell_type": "code",
   "execution_count": 135,
   "id": "4597deb8-3125-43cf-bc60-26030654b971",
   "metadata": {},
   "outputs": [],
   "source": [
    "# Because both have same memory locations"
   ]
  },
  {
   "cell_type": "code",
   "execution_count": 136,
   "id": "16f07826-8b98-48e0-aaf4-87bed2e65c84",
   "metadata": {},
   "outputs": [],
   "source": [
    "# copy\n",
    "# Shallow Copy\n",
    "lst1=[1,2,3,4]\n",
    "lst2=lst1.copy()"
   ]
  },
  {
   "cell_type": "code",
   "execution_count": 137,
   "id": "ea09947e-a2e2-40c3-bdde-ef130f280e4e",
   "metadata": {},
   "outputs": [
    {
     "data": {
      "text/plain": [
       "[1, 2, 3, 4]"
      ]
     },
     "execution_count": 137,
     "metadata": {},
     "output_type": "execute_result"
    }
   ],
   "source": [
    "lst2"
   ]
  },
  {
   "cell_type": "code",
   "execution_count": 138,
   "id": "97d64e0c-741b-46ee-886b-feefe715d031",
   "metadata": {},
   "outputs": [
    {
     "data": {
      "text/plain": [
       "[1, 2, 3, 4]"
      ]
     },
     "execution_count": 138,
     "metadata": {},
     "output_type": "execute_result"
    }
   ],
   "source": [
    "lst1"
   ]
  },
  {
   "cell_type": "code",
   "execution_count": 139,
   "id": "c7294349-e82c-474d-83a5-d3325ad6052c",
   "metadata": {},
   "outputs": [],
   "source": [
    "lst1[0]=10"
   ]
  },
  {
   "cell_type": "code",
   "execution_count": 140,
   "id": "2abdd6ff-186c-4389-a109-533f79448800",
   "metadata": {},
   "outputs": [
    {
     "data": {
      "text/plain": [
       "([10, 2, 3, 4], [1, 2, 3, 4])"
      ]
     },
     "execution_count": 140,
     "metadata": {},
     "output_type": "execute_result"
    }
   ],
   "source": [
    "# Will not change, beacuse we used copy\n",
    "lst1, lst2"
   ]
  },
  {
   "cell_type": "code",
   "execution_count": 141,
   "id": "66246ccd-b756-45cb-9a8f-eaea2c052057",
   "metadata": {},
   "outputs": [],
   "source": [
    "# Shallow copy Nested list\n",
    "lst1=[[1,2,3,4],[5,6,7,8]]\n",
    "lst2=lst1.copy()"
   ]
  },
  {
   "cell_type": "code",
   "execution_count": 142,
   "id": "b9e179e8-8429-4ee3-9704-6623c64c4a72",
   "metadata": {},
   "outputs": [
    {
     "data": {
      "text/plain": [
       "[[1, 2, 3, 4], [5, 6, 7, 8]]"
      ]
     },
     "execution_count": 142,
     "metadata": {},
     "output_type": "execute_result"
    }
   ],
   "source": [
    "lst1"
   ]
  },
  {
   "cell_type": "code",
   "execution_count": 143,
   "id": "af9e081f-a983-463e-8fac-73ee1eb4db16",
   "metadata": {},
   "outputs": [
    {
     "data": {
      "text/plain": [
       "[[1, 2, 3, 4], [5, 6, 7, 8]]"
      ]
     },
     "execution_count": 143,
     "metadata": {},
     "output_type": "execute_result"
    }
   ],
   "source": [
    "lst2"
   ]
  },
  {
   "cell_type": "code",
   "execution_count": 144,
   "id": "d8248630-fb34-4a11-a2a7-5278c7a9ddd0",
   "metadata": {},
   "outputs": [
    {
     "data": {
      "text/plain": [
       "5"
      ]
     },
     "execution_count": 144,
     "metadata": {},
     "output_type": "execute_result"
    }
   ],
   "source": [
    "lst1[1][0]"
   ]
  },
  {
   "cell_type": "code",
   "execution_count": 145,
   "id": "80b171f0-31db-4d38-9186-bd950aeccd48",
   "metadata": {},
   "outputs": [],
   "source": [
    "lst1[1][0]=100"
   ]
  },
  {
   "cell_type": "code",
   "execution_count": 146,
   "id": "e57179d4-2d66-46cb-b5da-c1ff99c6899a",
   "metadata": {},
   "outputs": [
    {
     "data": {
      "text/plain": [
       "[[1, 2, 3, 4], [100, 6, 7, 8]]"
      ]
     },
     "execution_count": 146,
     "metadata": {},
     "output_type": "execute_result"
    }
   ],
   "source": [
    "lst1"
   ]
  },
  {
   "cell_type": "code",
   "execution_count": 147,
   "id": "7cafca39-9997-4f84-996d-789b731de801",
   "metadata": {},
   "outputs": [
    {
     "data": {
      "text/plain": [
       "[[1, 2, 3, 4], [100, 6, 7, 8]]"
      ]
     },
     "execution_count": 147,
     "metadata": {},
     "output_type": "execute_result"
    }
   ],
   "source": [
    "# Both objects are reffering to the same object present in the list\n",
    "lst2"
   ]
  },
  {
   "cell_type": "code",
   "execution_count": 148,
   "id": "94aef119-f58c-4452-9013-d38843390d1d",
   "metadata": {},
   "outputs": [],
   "source": [
    "lst1.append([2,3,4,5])"
   ]
  },
  {
   "cell_type": "code",
   "execution_count": 149,
   "id": "233a56ce-ec29-44ce-bfec-4e8709cc58a5",
   "metadata": {},
   "outputs": [
    {
     "data": {
      "text/plain": [
       "[[1, 2, 3, 4], [100, 6, 7, 8], [2, 3, 4, 5]]"
      ]
     },
     "execution_count": 149,
     "metadata": {},
     "output_type": "execute_result"
    }
   ],
   "source": [
    "lst1"
   ]
  },
  {
   "cell_type": "code",
   "execution_count": 150,
   "id": "cf52784c-f923-4208-b59d-952b14bef2b2",
   "metadata": {},
   "outputs": [
    {
     "data": {
      "text/plain": [
       "[[1, 2, 3, 4], [100, 6, 7, 8]]"
      ]
     },
     "execution_count": 150,
     "metadata": {},
     "output_type": "execute_result"
    }
   ],
   "source": [
    "lst2"
   ]
  },
  {
   "cell_type": "code",
   "execution_count": 151,
   "id": "2a19a093-2106-4549-89b8-bcc3109ef6ab",
   "metadata": {},
   "outputs": [],
   "source": [
    "# Deep Copy\n",
    "import copy\n",
    "lst1=[1,2,3,4]\n",
    "lst2=copy.deepcopy(lst1)\n",
    "\n",
    "# In a normal list shallow copy = deepcopy"
   ]
  },
  {
   "cell_type": "code",
   "execution_count": 152,
   "id": "f9f78aa2-141f-461f-bc46-619213ef8057",
   "metadata": {},
   "outputs": [
    {
     "data": {
      "text/plain": [
       "[1, 2, 3, 4]"
      ]
     },
     "execution_count": 152,
     "metadata": {},
     "output_type": "execute_result"
    }
   ],
   "source": [
    "lst1"
   ]
  },
  {
   "cell_type": "code",
   "execution_count": 153,
   "id": "ff7ffef3-4bce-4baa-9c69-2801ba6fc50d",
   "metadata": {},
   "outputs": [
    {
     "data": {
      "text/plain": [
       "[1, 2, 3, 4]"
      ]
     },
     "execution_count": 153,
     "metadata": {},
     "output_type": "execute_result"
    }
   ],
   "source": [
    "lst2"
   ]
  },
  {
   "cell_type": "code",
   "execution_count": 154,
   "id": "5a573994-a8a7-4656-925f-f3b44a1437c4",
   "metadata": {},
   "outputs": [],
   "source": [
    "lst2[0]=100"
   ]
  },
  {
   "cell_type": "code",
   "execution_count": 155,
   "id": "dbe4d4db-919a-4bd4-a420-8481b424de37",
   "metadata": {},
   "outputs": [
    {
     "data": {
      "text/plain": [
       "[100, 2, 3, 4]"
      ]
     },
     "execution_count": 155,
     "metadata": {},
     "output_type": "execute_result"
    }
   ],
   "source": [
    "lst2"
   ]
  },
  {
   "cell_type": "code",
   "execution_count": 156,
   "id": "82edcfcf-170b-44db-8729-3f0cd5040cfe",
   "metadata": {},
   "outputs": [
    {
     "data": {
      "text/plain": [
       "[1, 2, 3, 4]"
      ]
     },
     "execution_count": 156,
     "metadata": {},
     "output_type": "execute_result"
    }
   ],
   "source": [
    "lst1"
   ]
  },
  {
   "cell_type": "code",
   "execution_count": 157,
   "id": "f2ce39ee-1dfc-470a-9974-a3491e393109",
   "metadata": {},
   "outputs": [],
   "source": [
    "# But in nested list\n",
    "lst1=[[1,2,3,4],[5,6,7,8]]\n",
    "lst2=copy.deepcopy(lst1)"
   ]
  },
  {
   "cell_type": "code",
   "execution_count": 158,
   "id": "ce26fad4-7dfa-400d-b787-94d9aee860c6",
   "metadata": {},
   "outputs": [
    {
     "data": {
      "text/plain": [
       "[[1, 2, 3, 4], [5, 6, 7, 8]]"
      ]
     },
     "execution_count": 158,
     "metadata": {},
     "output_type": "execute_result"
    }
   ],
   "source": [
    "lst1"
   ]
  },
  {
   "cell_type": "code",
   "execution_count": 159,
   "id": "a94f7e9d-1040-48cf-9b3a-5f94dd0094f7",
   "metadata": {},
   "outputs": [
    {
     "data": {
      "text/plain": [
       "[[1, 2, 3, 4], [5, 6, 7, 8]]"
      ]
     },
     "execution_count": 159,
     "metadata": {},
     "output_type": "execute_result"
    }
   ],
   "source": [
    "lst2"
   ]
  },
  {
   "cell_type": "code",
   "execution_count": 160,
   "id": "906a8806-4ce8-4a09-822e-91e71a12f28f",
   "metadata": {},
   "outputs": [],
   "source": [
    "lst2[0]=100"
   ]
  },
  {
   "cell_type": "code",
   "execution_count": 161,
   "id": "34f26ee9-42e4-417f-a456-cacd2361f429",
   "metadata": {},
   "outputs": [
    {
     "data": {
      "text/plain": [
       "[100, [5, 6, 7, 8]]"
      ]
     },
     "execution_count": 161,
     "metadata": {},
     "output_type": "execute_result"
    }
   ],
   "source": [
    "lst2"
   ]
  },
  {
   "cell_type": "code",
   "execution_count": 162,
   "id": "48d68f85-95c1-449d-aeb7-0777b65a9085",
   "metadata": {},
   "outputs": [
    {
     "data": {
      "text/plain": [
       "[[1, 2, 3, 4], [5, 6, 7, 8]]"
      ]
     },
     "execution_count": 162,
     "metadata": {},
     "output_type": "execute_result"
    }
   ],
   "source": [
    "lst1"
   ]
  },
  {
   "cell_type": "code",
   "execution_count": 163,
   "id": "57a01f9c-ee1a-42cd-9330-7a3bd3e7da4f",
   "metadata": {},
   "outputs": [],
   "source": [
    "# This is because for everything what we do a separate memory location is being created.\n",
    "# Differnce in deep copy between shallow copy"
   ]
  }
 ],
 "metadata": {
  "kernelspec": {
   "display_name": "Python 3 (ipykernel)",
   "language": "python",
   "name": "python3"
  },
  "language_info": {
   "codemirror_mode": {
    "name": "ipython",
    "version": 3
   },
   "file_extension": ".py",
   "mimetype": "text/x-python",
   "name": "python",
   "nbconvert_exporter": "python",
   "pygments_lexer": "ipython3",
   "version": "3.11.7"
  }
 },
 "nbformat": 4,
 "nbformat_minor": 5
}
