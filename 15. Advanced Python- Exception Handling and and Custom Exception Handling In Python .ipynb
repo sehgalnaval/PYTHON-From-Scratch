{
 "cells": [
  {
   "cell_type": "markdown",
   "id": "144ed934-8853-468f-8c08-430aa89a5126",
   "metadata": {},
   "source": [
    "# Python Exception Handling "
   ]
  },
  {
   "cell_type": "markdown",
   "id": "c321c307-da71-4f06-b0de-bc27ff9772c5",
   "metadata": {},
   "source": [
    "Errors can't be handled whereas Exception can be handled during run time!"
   ]
  },
  {
   "cell_type": "raw",
   "id": "6dce443d-4ec1-4544-badd-96b602c6393d",
   "metadata": {},
   "source": [
    "Definition: Compile time is the phase when the source code of a program is translated into executable code by a compiler. This is before the program is run."
   ]
  },
  {
   "cell_type": "raw",
   "id": "cfcb5d81-4d90-4aa2-900e-62c21f08d864",
   "metadata": {},
   "source": [
    "Definition: Runtime refers to the period when the program is actually running and being executed by the computer's CPU."
   ]
  },
  {
   "cell_type": "markdown",
   "id": "5b6812e0-3bf1-4bb7-a9f3-baf2d96c7d65",
   "metadata": {},
   "source": [
    "# Key Differences:\n",
    "\n",
    "- **When They Occur:** Compile time occurs before the program is executed, while runtime occurs when the program is actually running.\n",
    "- **Error Types:** Compile-time errors are usually related to syntax and type issues, while runtime errors are related to unexpected situations that occur during execution.\n",
    "- **Error Handling:** Compile-time errors must be fixed before the program can be successfully compiled, whereas runtime errors may only be detected and handled (or crash the program) during execution.\n",
    "- **Performance:** Compile time is when certain optimizations can be applied, which can affect the performance of the program during runtime.\n",
    "\n",
    "In summary, compile time is concerned with preparing the code for execution, while runtime is concerned with the actual execution of the program."
   ]
  },
  {
   "cell_type": "code",
   "execution_count": 1,
   "id": "bc3f6e0f-a574-4240-ab5c-aa31311c9b7e",
   "metadata": {},
   "outputs": [
    {
     "ename": "NameError",
     "evalue": "name 'b' is not defined",
     "output_type": "error",
     "traceback": [
      "\u001b[1;31m---------------------------------------------------------------------------\u001b[0m",
      "\u001b[1;31mNameError\u001b[0m                                 Traceback (most recent call last)",
      "Cell \u001b[1;32mIn[1], line 2\u001b[0m\n\u001b[0;32m      1\u001b[0m \u001b[38;5;66;03m# Example of an error\u001b[39;00m\n\u001b[1;32m----> 2\u001b[0m a\u001b[38;5;241m=\u001b[39mb\n",
      "\u001b[1;31mNameError\u001b[0m: name 'b' is not defined"
     ]
    }
   ],
   "source": [
    "# Example of an error\n",
    "a=b"
   ]
  },
  {
   "cell_type": "code",
   "execution_count": 5,
   "id": "2af77182-93bb-4e20-873d-e1c00da01c2c",
   "metadata": {},
   "outputs": [
    {
     "name": "stdout",
     "output_type": "stream",
     "text": [
      "The user have not defined the name variable\n"
     ]
    }
   ],
   "source": [
    "try:\n",
    "    # code block where exception can occur\n",
    "    a=b\n",
    "except NameError as ex1:\n",
    "    print(\"The user have not defined the name variable\")\n",
    "except Exception as ex:\n",
    "    print(ex)"
   ]
  },
  {
   "cell_type": "code",
   "execution_count": 6,
   "id": "2bc98351-bc0d-447f-b326-374869c86749",
   "metadata": {},
   "outputs": [
    {
     "name": "stdout",
     "output_type": "stream",
     "text": [
      "unsupported operand type(s) for +: 'int' and 'str'\n"
     ]
    }
   ],
   "source": [
    "try:\n",
    "    # code block where exception can occur\n",
    "    a=1\n",
    "    b='s'\n",
    "    c=a+b\n",
    "except NameError as ex1:\n",
    "    print(\"The user have not defined the variable\")\n",
    "except Exception as ex:\n",
    "    print(ex)"
   ]
  },
  {
   "cell_type": "code",
   "execution_count": 7,
   "id": "c858c652-ef56-43d4-9512-de460e83c255",
   "metadata": {},
   "outputs": [
    {
     "name": "stdout",
     "output_type": "stream",
     "text": [
      "Try to maake the dataype similar\n"
     ]
    }
   ],
   "source": [
    "try:\n",
    "    # code block where exception can occur\n",
    "    a=1\n",
    "    b='s'\n",
    "    c=a+b\n",
    "except NameError as ex1:\n",
    "    print(\"The user have not defined the variable\")\n",
    "except TypeError as ex1:\n",
    "    print(\"Try to maake the dataype similar\")\n",
    "except Exception as ex:\n",
    "    print(ex)"
   ]
  },
  {
   "cell_type": "code",
   "execution_count": 8,
   "id": "87ab63ca-8231-4314-9c95-c9965fd00b7d",
   "metadata": {},
   "outputs": [
    {
     "name": "stdin",
     "output_type": "stream",
     "text": [
      "Enter the number 1 12\n",
      "Enter the number 2 4\n"
     ]
    },
    {
     "name": "stdout",
     "output_type": "stream",
     "text": [
      "3.0\n",
      "48\n",
      "16\n"
     ]
    }
   ],
   "source": [
    "try:\n",
    "    # code block where exception can occur\n",
    "    a=int(input('Enter the number 1'))\n",
    "    b=int(input('Enter the number 2'))\n",
    "    c=a/b\n",
    "    d=a*b\n",
    "    e=a+b\n",
    "    print(c)\n",
    "    print(d)\n",
    "    print(e)\n",
    "except NameError as ex1:\n",
    "    print(\"The user have not defined the variable\")\n",
    "except TypeError as ex1:\n",
    "    print(\"Try to maake the dataype similar\")\n",
    "except Exception as ex:\n",
    "    print(ex)"
   ]
  },
  {
   "cell_type": "code",
   "execution_count": 9,
   "id": "38a09b84-f81c-45c1-a275-f53d05d60a06",
   "metadata": {},
   "outputs": [
    {
     "name": "stdin",
     "output_type": "stream",
     "text": [
      "Enter the number 1 12\n",
      "Enter the number 2 3\n"
     ]
    },
    {
     "name": "stdout",
     "output_type": "stream",
     "text": [
      "4.0\n",
      "36\n",
      "15\n"
     ]
    }
   ],
   "source": [
    "try:\n",
    "    # code block where exception can occur\n",
    "    a=int(input('Enter the number 1'))\n",
    "    b=int(input('Enter the number 2'))\n",
    "    c=a/b\n",
    "    d=a*b\n",
    "    e=a+b\n",
    "    print(c)\n",
    "    print(d)\n",
    "    print(e)\n",
    "except NameError as ex1:\n",
    "    print(\"The user have not defined the variable\")\n",
    "except TypeError as ex1:\n",
    "    print(\"Try to maake the dataype similar\")\n",
    "   \n",
    "except ZeroDivisionError as ex1:\n",
    "    print(\"Please provide a number greater than zero\")\n",
    "    \n",
    "except Exception as ex:\n",
    "    print(ex)    "
   ]
  },
  {
   "cell_type": "code",
   "execution_count": 10,
   "id": "ca50bfc3-1940-4c65-b524-1d7d9bbfaf50",
   "metadata": {},
   "outputs": [
    {
     "name": "stdin",
     "output_type": "stream",
     "text": [
      "Enter the number 1 12\n",
      "Enter the number 2 3\n"
     ]
    },
    {
     "name": "stdout",
     "output_type": "stream",
     "text": [
      "4.0\n",
      "36\n",
      "15\n"
     ]
    }
   ],
   "source": [
    "# Using the try else block\n",
    "try:\n",
    "    # code block where exception can occur\n",
    "    a=int(input('Enter the number 1'))\n",
    "    b=int(input('Enter the number 2'))\n",
    "    c=a/b\n",
    "    d=a*b\n",
    "    e=a+b\n",
    "    # print(c)\n",
    "    # print(d)\n",
    "    # print(e)\n",
    "except NameError as ex1:\n",
    "    print(\"The user have not defined the variable\")\n",
    "except TypeError as ex1:\n",
    "    print(\"Try to maake the dataype similar\")\n",
    "   \n",
    "except ZeroDivisionError as ex1:\n",
    "    print(\"Please provide a number greater than zero\")\n",
    "    \n",
    "except Exception as ex:\n",
    "    print(ex) \n",
    "else:\n",
    "    print(c)\n",
    "    print(d)\n",
    "    print(e)\n",
    "    "
   ]
  },
  {
   "cell_type": "code",
   "execution_count": 11,
   "id": "f8668eb4-6eea-4a54-8330-aad6058c4db1",
   "metadata": {},
   "outputs": [
    {
     "name": "stdin",
     "output_type": "stream",
     "text": [
      "Enter the number 1 12\n",
      "Enter the number 2 4\n"
     ]
    },
    {
     "name": "stdout",
     "output_type": "stream",
     "text": [
      "3.0\n",
      "The execution is done\n"
     ]
    }
   ],
   "source": [
    "# Try else nad finally block\n",
    "try:\n",
    "    # code block where exception can occur\n",
    "    a=int(input('Enter the number 1'))\n",
    "    b=int(input('Enter the number 2'))\n",
    "    c=a/b\n",
    "except NameError as ex1:\n",
    "    print(\"The user have not defined the variable\")\n",
    "except TypeError as ex1:\n",
    "    print(\"Try to maake the dataype similar\")\n",
    "   \n",
    "except ZeroDivisionError as ex1:\n",
    "    print(\"Please provide a number greater than zero\")\n",
    "except Exception as ex:\n",
    "    print(ex) \n",
    "else:\n",
    "    print(c)\n",
    "# This is used to close the database, as we can't use the else block\n",
    "finally:\n",
    "    print(\"The execution is done\")"
   ]
  },
  {
   "cell_type": "markdown",
   "id": "ec67d6b2-2c51-46f0-8113-be643719e9b6",
   "metadata": {},
   "source": [
    "# Custom Exception Handling in Python"
   ]
  },
  {
   "cell_type": "code",
   "execution_count": 40,
   "id": "8edc835c-8fde-456e-b459-b522daec58d1",
   "metadata": {},
   "outputs": [],
   "source": [
    "class Error(Exception):\n",
    "    pass\n",
    "class dobException(Error):\n",
    "    pass\n",
    "class customgeneric(Error):\n",
    "    pass\n",
    "    "
   ]
  },
  {
   "cell_type": "code",
   "execution_count": 38,
   "id": "7f3f81ed-f60d-4dfa-ad93-946957149fee",
   "metadata": {},
   "outputs": [
    {
     "name": "stdin",
     "output_type": "stream",
     "text": [
      "Please enter the year of birth:  1988\n"
     ]
    },
    {
     "name": "stdout",
     "output_type": "stream",
     "text": [
      "The year range is not valid. You cannot aply for the exam!\n"
     ]
    }
   ],
   "source": [
    "year=int(input(\"Please enter the year of birth: \"))\n",
    "age=2024-year\n",
    "try:\n",
    "    if(age<=30 & age>20):\n",
    "        print(\"The age is valid, you can apply for the govt. examinations\")\n",
    "    else:\n",
    "        raise dobException\n",
    "except dobException:\n",
    "    print(\"The year range is not valid. You cannot aply for the exam!\")"
   ]
  }
 ],
 "metadata": {
  "kernelspec": {
   "display_name": "Python 3 (ipykernel)",
   "language": "python",
   "name": "python3"
  },
  "language_info": {
   "codemirror_mode": {
    "name": "ipython",
    "version": 3
   },
   "file_extension": ".py",
   "mimetype": "text/x-python",
   "name": "python",
   "nbconvert_exporter": "python",
   "pygments_lexer": "ipython3",
   "version": "3.11.7"
  }
 },
 "nbformat": 4,
 "nbformat_minor": 5
}
