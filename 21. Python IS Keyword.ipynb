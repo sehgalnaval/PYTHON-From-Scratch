{
 "cells": [
  {
   "cell_type": "code",
   "execution_count": 3,
   "id": "f846e1ff-8a42-43d0-a6b1-b29ec2aaa02f",
   "metadata": {},
   "outputs": [
    {
     "data": {
      "text/plain": [
       "True"
      ]
     },
     "execution_count": 3,
     "metadata": {},
     "output_type": "execute_result"
    }
   ],
   "source": [
    "# is vs ==\n",
    "list1=['Sam1','Sam2','Sam3']\n",
    "list2=['Sam1','Sam2','Sam3']\n",
    "list1==list2"
   ]
  },
  {
   "cell_type": "code",
   "execution_count": 5,
   "id": "f588f354-813f-4e87-9042-fe8a56e5a96f",
   "metadata": {},
   "outputs": [
    {
     "data": {
      "text/plain": [
       "True"
      ]
     },
     "execution_count": 5,
     "metadata": {},
     "output_type": "execute_result"
    }
   ],
   "source": [
    "a='Sam'\n",
    "b='Sam'\n",
    "a==b"
   ]
  },
  {
   "cell_type": "code",
   "execution_count": 15,
   "id": "23bc0eb1-5a36-40a1-8f1d-92c65467097e",
   "metadata": {},
   "outputs": [
    {
     "data": {
      "text/plain": [
       "False"
      ]
     },
     "execution_count": 15,
     "metadata": {},
     "output_type": "execute_result"
    }
   ],
   "source": [
    "list1=['Sam1','Sam2','Sam3']\n",
    "list2=['Sam1','Sam2','Sam3']\n",
    "list1 is list2"
   ]
  },
  {
   "cell_type": "code",
   "execution_count": 17,
   "id": "6da13b36-62f1-43c7-a538-bb830f888fd3",
   "metadata": {},
   "outputs": [
    {
     "data": {
      "text/plain": [
       "True"
      ]
     },
     "execution_count": 17,
     "metadata": {},
     "output_type": "execute_result"
    }
   ],
   "source": [
    "list1=['Sam1','Sam2','Sam3']\n",
    "list2=list1\n",
    "list1 is list2"
   ]
  },
  {
   "cell_type": "code",
   "execution_count": 19,
   "id": "fafa9fe5-2e3a-49cb-81a1-c863b5d9323b",
   "metadata": {},
   "outputs": [
    {
     "data": {
      "text/plain": [
       "True"
      ]
     },
     "execution_count": 19,
     "metadata": {},
     "output_type": "execute_result"
    }
   ],
   "source": [
    "list2 is list1"
   ]
  },
  {
   "cell_type": "code",
   "execution_count": 27,
   "id": "83012d40-4b84-42cd-96ed-2a27688f7d2b",
   "metadata": {},
   "outputs": [],
   "source": [
    "# is keyword is not about comparison, list2 is provided the same refernce of list1, that is wherever list1 is allocated in thr memory location"
   ]
  },
  {
   "cell_type": "code",
   "execution_count": 29,
   "id": "4e6424aa-6895-427c-b5ef-ea1cdf85e863",
   "metadata": {},
   "outputs": [],
   "source": [
    "# in == there are two different memory locations, comparing them."
   ]
  },
  {
   "cell_type": "code",
   "execution_count": 37,
   "id": "3af161f4-960b-4b51-8af3-cc954a64aa0f",
   "metadata": {},
   "outputs": [],
   "source": [
    "list2[0]='Sam4'"
   ]
  },
  {
   "cell_type": "code",
   "execution_count": 39,
   "id": "98fc7572-f659-4f75-986b-6a80fbde225f",
   "metadata": {},
   "outputs": [
    {
     "data": {
      "text/plain": [
       "['Sam4', 'Sam2', 'Sam3']"
      ]
     },
     "execution_count": 39,
     "metadata": {},
     "output_type": "execute_result"
    }
   ],
   "source": [
    "list2"
   ]
  },
  {
   "cell_type": "code",
   "execution_count": 43,
   "id": "d176ea1e-816f-404a-8ee3-a22a2a64f701",
   "metadata": {},
   "outputs": [
    {
     "data": {
      "text/plain": [
       "['Sam4', 'Sam2', 'Sam3']"
      ]
     },
     "execution_count": 43,
     "metadata": {},
     "output_type": "execute_result"
    }
   ],
   "source": [
    "# mutability\n",
    "list1"
   ]
  },
  {
   "cell_type": "markdown",
   "id": "46202d89-cbed-45f9-ad2a-20f44bc5d7d3",
   "metadata": {},
   "source": [
    "## Link to 60 Python projects, practise each daily to be a pro"
   ]
  },
  {
   "cell_type": "raw",
   "id": "f1894748-43da-417e-9660-2233de99a575",
   "metadata": {},
   "source": [
    "https://medium.com/coders-camp/60-python-projects-with-source-code-919cd8a6e512"
   ]
  }
 ],
 "metadata": {
  "kernelspec": {
   "display_name": "Python 3 (ipykernel)",
   "language": "python",
   "name": "python3"
  },
  "language_info": {
   "codemirror_mode": {
    "name": "ipython",
    "version": 3
   },
   "file_extension": ".py",
   "mimetype": "text/x-python",
   "name": "python",
   "nbconvert_exporter": "python",
   "pygments_lexer": "ipython3",
   "version": "3.11.7"
  }
 },
 "nbformat": 4,
 "nbformat_minor": 5
}
