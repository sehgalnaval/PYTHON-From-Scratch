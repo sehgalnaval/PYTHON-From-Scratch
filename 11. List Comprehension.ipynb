{
 "cells": [
  {
   "cell_type": "markdown",
   "id": "762b19a8-b913-49e5-b576-c4b2f49d10c2",
   "metadata": {},
   "source": [
    "# List Comprehension\n",
    "\n",
    "List Comprehension provides a concise way to create Lists. It consists of brackets containing an expression followed by a for clause,then zero or more of for or if clauses. The expression can be anything, meaning you can put in all kinds of objects in lists."
   ]
  },
  {
   "cell_type": "code",
   "execution_count": 2,
   "id": "f6e4388b-76d8-4ae2-b335-21f9358ec163",
   "metadata": {},
   "outputs": [],
   "source": [
    "lst1=[]\n",
    "def lst_squre(lst):\n",
    "    for i in lst:\n",
    "        lst1.append(i*i)\n",
    "    return lst1    "
   ]
  },
  {
   "cell_type": "code",
   "execution_count": 4,
   "id": "6ef25d5b-2224-4e97-86ff-f48589e3013d",
   "metadata": {},
   "outputs": [
    {
     "data": {
      "text/plain": [
       "[1, 4, 9, 16, 25, 36]"
      ]
     },
     "execution_count": 4,
     "metadata": {},
     "output_type": "execute_result"
    }
   ],
   "source": [
    "lst_squre([1,2,3,4,5,6])"
   ]
  },
  {
   "cell_type": "code",
   "execution_count": 12,
   "id": "e10a582a-ce21-4c8a-bec1-dd829615e2b2",
   "metadata": {},
   "outputs": [
    {
     "data": {
      "text/plain": [
       "[1, 4, 9, 16, 25, 36]"
      ]
     },
     "execution_count": 12,
     "metadata": {},
     "output_type": "execute_result"
    }
   ],
   "source": [
    "lst=[1,2,3,4,5,6]\n",
    "[i*i for i in lst]"
   ]
  },
  {
   "cell_type": "code",
   "execution_count": 24,
   "id": "5679bc4f-d422-4f9f-9353-eb9b2ef8a9ea",
   "metadata": {},
   "outputs": [],
   "source": [
    "# squaring ony those numbers which are even\n",
    "lst2=[i*i for i in lst if i%2==0]"
   ]
  },
  {
   "cell_type": "code",
   "execution_count": 26,
   "id": "844cb84e-2476-4fd0-a391-aa5fda59b35d",
   "metadata": {},
   "outputs": [
    {
     "data": {
      "text/plain": [
       "[4, 16, 36]"
      ]
     },
     "execution_count": 26,
     "metadata": {},
     "output_type": "execute_result"
    }
   ],
   "source": [
    "lst2"
   ]
  }
 ],
 "metadata": {
  "kernelspec": {
   "display_name": "Python 3 (ipykernel)",
   "language": "python",
   "name": "python3"
  },
  "language_info": {
   "codemirror_mode": {
    "name": "ipython",
    "version": 3
   },
   "file_extension": ".py",
   "mimetype": "text/x-python",
   "name": "python",
   "nbconvert_exporter": "python",
   "pygments_lexer": "ipython3",
   "version": "3.11.7"
  }
 },
 "nbformat": 4,
 "nbformat_minor": 5
}
