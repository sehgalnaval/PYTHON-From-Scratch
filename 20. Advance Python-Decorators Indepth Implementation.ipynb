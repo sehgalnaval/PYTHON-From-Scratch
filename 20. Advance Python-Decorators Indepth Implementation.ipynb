{
 "cells": [
  {
   "cell_type": "markdown",
   "id": "05bbf64b-d273-474e-ade3-3d1e7ad00371",
   "metadata": {},
   "source": [
    "## Python-Decorators Indepth Implementation"
   ]
  },
  {
   "cell_type": "code",
   "execution_count": 2,
   "id": "d864fa95-5271-4f7c-8c64-910b5ed73bfe",
   "metadata": {},
   "outputs": [],
   "source": [
    "## function copy\n",
    "## closures\n",
    "## decorators"
   ]
  },
  {
   "cell_type": "code",
   "execution_count": 5,
   "id": "26178b56-6599-476f-a09e-36404443e26b",
   "metadata": {},
   "outputs": [],
   "source": [
    "def welcome():\n",
    "    print(\"Hello, Welcome!\")"
   ]
  },
  {
   "cell_type": "code",
   "execution_count": 7,
   "id": "2606dc64-a512-4874-84b9-546abfb34a25",
   "metadata": {},
   "outputs": [
    {
     "name": "stdout",
     "output_type": "stream",
     "text": [
      "Hello, Welcome!\n"
     ]
    }
   ],
   "source": [
    "wel=welcome()"
   ]
  },
  {
   "cell_type": "code",
   "execution_count": 11,
   "id": "8ae7c9fb-1002-44e7-9deb-b8a92e733ee3",
   "metadata": {},
   "outputs": [],
   "source": [
    "# No output on print\n",
    "wel"
   ]
  },
  {
   "cell_type": "code",
   "execution_count": 13,
   "id": "e2481d0b-093f-4394-bbf2-9b0e22be4385",
   "metadata": {},
   "outputs": [],
   "source": [
    "def welcome():\n",
    "   return (\"Hello, Welcome!\")"
   ]
  },
  {
   "cell_type": "code",
   "execution_count": 15,
   "id": "8f67e7ea-9fa0-423d-9f87-dc6729fdb959",
   "metadata": {},
   "outputs": [],
   "source": [
    "wel1=welcome()"
   ]
  },
  {
   "cell_type": "code",
   "execution_count": 17,
   "id": "32779f54-79a2-407b-88fc-39a664052baa",
   "metadata": {},
   "outputs": [
    {
     "data": {
      "text/plain": [
       "'Hello, Welcome!'"
      ]
     },
     "execution_count": 17,
     "metadata": {},
     "output_type": "execute_result"
    }
   ],
   "source": [
    "wel1"
   ]
  },
  {
   "cell_type": "code",
   "execution_count": 21,
   "id": "80dbaef7-3fe2-4236-b035-825f2aa4e298",
   "metadata": {},
   "outputs": [],
   "source": [
    "wel=welcome()\n",
    "del welcome"
   ]
  },
  {
   "cell_type": "code",
   "execution_count": 23,
   "id": "9517877f-8b49-405c-82c3-edafe31841cc",
   "metadata": {},
   "outputs": [
    {
     "data": {
      "text/plain": [
       "'Hello, Welcome!'"
      ]
     },
     "execution_count": 23,
     "metadata": {},
     "output_type": "execute_result"
    }
   ],
   "source": [
    "wel"
   ]
  },
  {
   "cell_type": "code",
   "execution_count": 25,
   "id": "25132b78-6a52-490e-b5db-c62c83f2a88f",
   "metadata": {},
   "outputs": [
    {
     "ename": "NameError",
     "evalue": "name 'welcome' is not defined",
     "output_type": "error",
     "traceback": [
      "\u001b[1;31m---------------------------------------------------------------------------\u001b[0m",
      "\u001b[1;31mNameError\u001b[0m                                 Traceback (most recent call last)",
      "Cell \u001b[1;32mIn[25], line 1\u001b[0m\n\u001b[1;32m----> 1\u001b[0m welcome()\n",
      "\u001b[1;31mNameError\u001b[0m: name 'welcome' is not defined"
     ]
    }
   ],
   "source": [
    "welcome()"
   ]
  },
  {
   "cell_type": "markdown",
   "id": "fbce53c3-7f4b-4b72-a18d-ddf817f6682e",
   "metadata": {},
   "source": [
    "### Closures"
   ]
  },
  {
   "cell_type": "code",
   "execution_count": 38,
   "id": "2142e0f6-51a2-4d54-9f09-73607357a271",
   "metadata": {},
   "outputs": [],
   "source": [
    "# function inside function\n",
    "# U can access the variables present in the Parent fucntion can be accessed even in the subfunction\n",
    "def welcome_guys(msg):\n",
    "    def sub_classs_welcome():\n",
    "        print(\"Keep on moving Forward\")\n",
    "        print(msg)\n",
    "        print(\"God's Plan is better than yours\")\n",
    "    return sub_classs_welcome()"
   ]
  },
  {
   "cell_type": "code",
   "execution_count": 40,
   "id": "3f8f8206-300a-4f78-ac3b-315a68325612",
   "metadata": {},
   "outputs": [
    {
     "name": "stdout",
     "output_type": "stream",
     "text": [
      "Keep on moving Forward\n",
      "You are a step ahead now\n",
      "God's Plan is better than yours\n"
     ]
    }
   ],
   "source": [
    "welcome_guys(\"You are a step ahead now\")"
   ]
  },
  {
   "cell_type": "code",
   "execution_count": 58,
   "id": "807208dd-302c-4f1f-80dc-7287d3785170",
   "metadata": {},
   "outputs": [],
   "source": [
    "# Closures and initial Decorators\n",
    "def welcome_guys(func):\n",
    "    def sub_classs_welcome():\n",
    "        print(\"Keep on moving Forward\")\n",
    "        func(\"This is a sample statement\")\n",
    "        print(\"God's Plan is better than yours\")\n",
    "    return sub_classs_welcome()"
   ]
  },
  {
   "cell_type": "code",
   "execution_count": 56,
   "id": "816bb575-3a6a-408c-b1b6-aba04251454d",
   "metadata": {},
   "outputs": [
    {
     "name": "stdout",
     "output_type": "stream",
     "text": [
      "Keep on moving Forward\n",
      "This is a sample statement\n",
      "God's Plan is better than yours\n"
     ]
    }
   ],
   "source": [
    "welcome_guys(print)"
   ]
  },
  {
   "cell_type": "code",
   "execution_count": 64,
   "id": "bbdc7c82-87b1-4655-9122-a7727f1bef1e",
   "metadata": {},
   "outputs": [],
   "source": [
    "# Closures and initial Decorators\n",
    "def welcome_guys(func):\n",
    "    def sub_classs_welcome():\n",
    "        print(\"Keep on moving Forward\")\n",
    "        print(func([1,2,3,4,5,6]))\n",
    "        print(\"God's Plan is better than yours\")\n",
    "    return sub_classs_welcome()"
   ]
  },
  {
   "cell_type": "code",
   "execution_count": 66,
   "id": "952185bd-6fab-4b02-881a-dcee54a977fd",
   "metadata": {},
   "outputs": [
    {
     "name": "stdout",
     "output_type": "stream",
     "text": [
      "Keep on moving Forward\n",
      "6\n",
      "God's Plan is better than yours\n"
     ]
    }
   ],
   "source": [
    "welcome_guys(len)"
   ]
  },
  {
   "cell_type": "code",
   "execution_count": 72,
   "id": "89010303-102b-4999-ad32-1ec068f5a422",
   "metadata": {},
   "outputs": [],
   "source": [
    "def respoitory_name():\n",
    "    print(\"Naval Sehgal's Repository\")"
   ]
  },
  {
   "cell_type": "markdown",
   "id": "ed6d6d30-a13b-4bad-bf7e-6de217db9742",
   "metadata": {},
   "source": [
    "### Decorators\n",
    "\n",
    "function within a function and passing function as a parameter too."
   ]
  },
  {
   "cell_type": "code",
   "execution_count": 84,
   "id": "6c409df3-f017-47b3-85e0-ea8ffca33a7a",
   "metadata": {},
   "outputs": [],
   "source": [
    "def welcome_guys(func):\n",
    "    def sub_classs_welcome():\n",
    "        print(\"Keep on moving Forward\")\n",
    "        func()\n",
    "        print(\"God's Plan is better than yours\")\n",
    "    return sub_classs_welcome()"
   ]
  },
  {
   "cell_type": "code",
   "execution_count": 86,
   "id": "a356715f-0339-4854-9358-f176e0deea8f",
   "metadata": {},
   "outputs": [
    {
     "name": "stdout",
     "output_type": "stream",
     "text": [
      "Keep on moving Forward\n",
      "Naval Sehgal's Repository\n",
      "God's Plan is better than yours\n"
     ]
    }
   ],
   "source": [
    "welcome_guys(respoitory_name)"
   ]
  },
  {
   "cell_type": "code",
   "execution_count": 91,
   "id": "857476d5-4f8c-403e-be52-c6d388d23091",
   "metadata": {},
   "outputs": [
    {
     "name": "stdout",
     "output_type": "stream",
     "text": [
      "Keep on moving Forward\n",
      "People Repository\n",
      "God's Plan is better than yours\n"
     ]
    }
   ],
   "source": [
    "# Other way of defining decorators\n",
    "@welcome_guys\n",
    "def respoitory_name():\n",
    "    print(\"People Repository\")\n"
   ]
  },
  {
   "cell_type": "code",
   "execution_count": null,
   "id": "7fa83756-949e-4452-a9ae-74ced116b057",
   "metadata": {},
   "outputs": [],
   "source": []
  }
 ],
 "metadata": {
  "kernelspec": {
   "display_name": "Python 3 (ipykernel)",
   "language": "python",
   "name": "python3"
  },
  "language_info": {
   "codemirror_mode": {
    "name": "ipython",
    "version": 3
   },
   "file_extension": ".py",
   "mimetype": "text/x-python",
   "name": "python",
   "nbconvert_exporter": "python",
   "pygments_lexer": "ipython3",
   "version": "3.11.7"
  }
 },
 "nbformat": 4,
 "nbformat_minor": 5
}
